{
 "cells": [
  {
   "cell_type": "code",
   "execution_count": 229,
   "id": "26310d79",
   "metadata": {
    "ExecuteTime": {
     "end_time": "2024-07-12T13:11:09.719693Z",
     "start_time": "2024-07-12T13:11:09.715196Z"
    }
   },
   "outputs": [],
   "source": [
    "import pandas as pd\n",
    "import matplotlib.pyplot as plt\n",
    "import seaborn as sns"
   ]
  },
  {
   "cell_type": "markdown",
   "id": "976b3a71",
   "metadata": {},
   "source": [
    "## Introduction"
   ]
  },
  {
   "cell_type": "markdown",
   "id": "0a8a5124",
   "metadata": {},
   "source": [
    "### Goal"
   ]
  },
  {
   "cell_type": "markdown",
   "id": "ae02143a",
   "metadata": {},
   "source": [
    "This notebook tries to investigate the **trends** in the gaming market over the last three decades through a detailed analysis based on available data. \n",
    "\n",
    "The notebook contains numerous comments aimed at explaining the analysis and decisions made, as well as clarifying potential concerns about the quality of the data."
   ]
  },
  {
   "cell_type": "markdown",
   "id": "f9732420",
   "metadata": {},
   "source": [
    "### Dataset"
   ]
  },
  {
   "cell_type": "markdown",
   "id": "544f414d",
   "metadata": {},
   "source": [
    "The dataset contains 8 columns:\n",
    "- Game title (Name)\n",
    "- Platform, for which the game was published (Platform)\n",
    "- The publisher of the game (Publisher)\n",
    "- The developer of the game (Developer)\n",
    "- Critic score, scraped from Metacritic (Critic_Score)\n",
    "- User score, scraped from Metacritic (User_Score)\n",
    "- Total units sold, in mln copies (Total_Shipped)\n",
    "- Year of the release (Year)\n",
    "\n",
    "The full dataset can be found on [Kaggle](https://www.kaggle.com/datasets/holmjason2/videogamedata)."
   ]
  },
  {
   "cell_type": "markdown",
   "id": "2af67ce6",
   "metadata": {},
   "source": [
    "## EDA"
   ]
  },
  {
   "cell_type": "markdown",
   "id": "4fc01a48",
   "metadata": {},
   "source": [
    "### Import data"
   ]
  },
  {
   "cell_type": "code",
   "execution_count": 190,
   "id": "f389dba2",
   "metadata": {
    "ExecuteTime": {
     "end_time": "2024-07-12T12:31:09.949995Z",
     "start_time": "2024-07-12T12:31:09.899006Z"
    }
   },
   "outputs": [],
   "source": [
    "sales = pd.read_csv('data/game_sales_data.csv')"
   ]
  },
  {
   "cell_type": "code",
   "execution_count": 191,
   "id": "163c5f5b",
   "metadata": {
    "ExecuteTime": {
     "end_time": "2024-07-12T12:31:11.091865Z",
     "start_time": "2024-07-12T12:31:11.073519Z"
    }
   },
   "outputs": [
    {
     "data": {
      "text/html": [
       "<div>\n",
       "<style scoped>\n",
       "    .dataframe tbody tr th:only-of-type {\n",
       "        vertical-align: middle;\n",
       "    }\n",
       "\n",
       "    .dataframe tbody tr th {\n",
       "        vertical-align: top;\n",
       "    }\n",
       "\n",
       "    .dataframe thead th {\n",
       "        text-align: right;\n",
       "    }\n",
       "</style>\n",
       "<table border=\"1\" class=\"dataframe\">\n",
       "  <thead>\n",
       "    <tr style=\"text-align: right;\">\n",
       "      <th></th>\n",
       "      <th>Name</th>\n",
       "      <th>Platform</th>\n",
       "      <th>Publisher</th>\n",
       "      <th>Developer</th>\n",
       "      <th>Critic_Score</th>\n",
       "      <th>User_Score</th>\n",
       "      <th>Total_Shipped</th>\n",
       "      <th>Year</th>\n",
       "    </tr>\n",
       "  </thead>\n",
       "  <tbody>\n",
       "    <tr>\n",
       "      <th>0</th>\n",
       "      <td>Wii Sports</td>\n",
       "      <td>Wii</td>\n",
       "      <td>Nintendo</td>\n",
       "      <td>Nintendo EAD</td>\n",
       "      <td>7.7</td>\n",
       "      <td>8.0</td>\n",
       "      <td>82.90</td>\n",
       "      <td>2006</td>\n",
       "    </tr>\n",
       "    <tr>\n",
       "      <th>1</th>\n",
       "      <td>Super Mario Bros.</td>\n",
       "      <td>NES</td>\n",
       "      <td>Nintendo</td>\n",
       "      <td>Nintendo EAD</td>\n",
       "      <td>10.0</td>\n",
       "      <td>8.2</td>\n",
       "      <td>40.24</td>\n",
       "      <td>1985</td>\n",
       "    </tr>\n",
       "    <tr>\n",
       "      <th>2</th>\n",
       "      <td>Counter-Strike: Global Offensive</td>\n",
       "      <td>PC</td>\n",
       "      <td>Valve</td>\n",
       "      <td>Valve Corporation</td>\n",
       "      <td>8.0</td>\n",
       "      <td>7.5</td>\n",
       "      <td>40.00</td>\n",
       "      <td>2012</td>\n",
       "    </tr>\n",
       "    <tr>\n",
       "      <th>3</th>\n",
       "      <td>Mario Kart Wii</td>\n",
       "      <td>Wii</td>\n",
       "      <td>Nintendo</td>\n",
       "      <td>Nintendo EAD</td>\n",
       "      <td>8.2</td>\n",
       "      <td>9.1</td>\n",
       "      <td>37.32</td>\n",
       "      <td>2008</td>\n",
       "    </tr>\n",
       "    <tr>\n",
       "      <th>4</th>\n",
       "      <td>PLAYERUNKNOWN'S BATTLEGROUNDS</td>\n",
       "      <td>PC</td>\n",
       "      <td>PUBG Corporation</td>\n",
       "      <td>PUBG Corporation</td>\n",
       "      <td>8.6</td>\n",
       "      <td>4.7</td>\n",
       "      <td>36.60</td>\n",
       "      <td>2017</td>\n",
       "    </tr>\n",
       "  </tbody>\n",
       "</table>\n",
       "</div>"
      ],
      "text/plain": [
       "                               Name Platform         Publisher  \\\n",
       "0                        Wii Sports      Wii          Nintendo   \n",
       "1                 Super Mario Bros.      NES          Nintendo   \n",
       "2  Counter-Strike: Global Offensive       PC             Valve   \n",
       "3                    Mario Kart Wii      Wii          Nintendo   \n",
       "4     PLAYERUNKNOWN'S BATTLEGROUNDS       PC  PUBG Corporation   \n",
       "\n",
       "           Developer  Critic_Score  User_Score  Total_Shipped  Year  \n",
       "0       Nintendo EAD           7.7         8.0          82.90  2006  \n",
       "1       Nintendo EAD          10.0         8.2          40.24  1985  \n",
       "2  Valve Corporation           8.0         7.5          40.00  2012  \n",
       "3       Nintendo EAD           8.2         9.1          37.32  2008  \n",
       "4   PUBG Corporation           8.6         4.7          36.60  2017  "
      ]
     },
     "execution_count": 191,
     "metadata": {},
     "output_type": "execute_result"
    }
   ],
   "source": [
    "sales.head()"
   ]
  },
  {
   "cell_type": "markdown",
   "id": "c200d111",
   "metadata": {
    "ExecuteTime": {
     "end_time": "2024-07-12T09:27:40.263084Z",
     "start_time": "2024-07-12T09:27:40.259247Z"
    }
   },
   "source": [
    "### Data overview"
   ]
  },
  {
   "cell_type": "markdown",
   "id": "7823d140",
   "metadata": {},
   "source": [
    "Are there any duplicates? If so, remove them. I'm using a subset of variables, because a duplicated game may happen to have different reviews/total_shipping for some reason. In such case it won't get detected if all variables are used as a filtering criterion:"
   ]
  },
  {
   "cell_type": "code",
   "execution_count": 196,
   "id": "25e6c113",
   "metadata": {
    "ExecuteTime": {
     "end_time": "2024-07-12T12:33:20.567606Z",
     "start_time": "2024-07-12T12:33:20.521084Z"
    }
   },
   "outputs": [
    {
     "name": "stdout",
     "output_type": "stream",
     "text": [
      "Number of duplicates in sales: 36\n"
     ]
    }
   ],
   "source": [
    "print(f\"Number of duplicates in sales: {sales.duplicated(subset=['Name','Platform','Developer','Year']).sum()}\")\n",
    "sales.drop_duplicates(inplace=True,subset=['Name','Platform','Developer','Year'])"
   ]
  },
  {
   "cell_type": "markdown",
   "id": "9c0019a6",
   "metadata": {},
   "source": [
    "Let's also convert year to Datetime:"
   ]
  },
  {
   "cell_type": "code",
   "execution_count": 220,
   "id": "fe0c3824",
   "metadata": {
    "ExecuteTime": {
     "end_time": "2024-07-12T12:42:41.056915Z",
     "start_time": "2024-07-12T12:42:41.044645Z"
    }
   },
   "outputs": [],
   "source": [
    "sales['Year'] = pd.to_datetime(sales['Year'], format='%Y')"
   ]
  },
  {
   "cell_type": "code",
   "execution_count": 221,
   "id": "6f10efce",
   "metadata": {
    "ExecuteTime": {
     "end_time": "2024-07-12T12:42:42.591822Z",
     "start_time": "2024-07-12T12:42:42.555759Z"
    }
   },
   "outputs": [
    {
     "data": {
      "text/html": [
       "<div>\n",
       "<style scoped>\n",
       "    .dataframe tbody tr th:only-of-type {\n",
       "        vertical-align: middle;\n",
       "    }\n",
       "\n",
       "    .dataframe tbody tr th {\n",
       "        vertical-align: top;\n",
       "    }\n",
       "\n",
       "    .dataframe thead th {\n",
       "        text-align: right;\n",
       "    }\n",
       "</style>\n",
       "<table border=\"1\" class=\"dataframe\">\n",
       "  <thead>\n",
       "    <tr style=\"text-align: right;\">\n",
       "      <th></th>\n",
       "      <th>Critic_Score</th>\n",
       "      <th>User_Score</th>\n",
       "      <th>Total_Shipped</th>\n",
       "    </tr>\n",
       "  </thead>\n",
       "  <tbody>\n",
       "    <tr>\n",
       "      <th>count</th>\n",
       "      <td>9941.000000</td>\n",
       "      <td>2212.000000</td>\n",
       "      <td>19564.000000</td>\n",
       "    </tr>\n",
       "    <tr>\n",
       "      <th>mean</th>\n",
       "      <td>7.033618</td>\n",
       "      <td>6.992586</td>\n",
       "      <td>0.551600</td>\n",
       "    </tr>\n",
       "    <tr>\n",
       "      <th>std</th>\n",
       "      <td>1.559922</td>\n",
       "      <td>1.518455</td>\n",
       "      <td>1.672831</td>\n",
       "    </tr>\n",
       "    <tr>\n",
       "      <th>min</th>\n",
       "      <td>0.800000</td>\n",
       "      <td>1.000000</td>\n",
       "      <td>0.010000</td>\n",
       "    </tr>\n",
       "    <tr>\n",
       "      <th>25%</th>\n",
       "      <td>6.100000</td>\n",
       "      <td>6.300000</td>\n",
       "      <td>0.050000</td>\n",
       "    </tr>\n",
       "    <tr>\n",
       "      <th>50%</th>\n",
       "      <td>7.300000</td>\n",
       "      <td>7.200000</td>\n",
       "      <td>0.160000</td>\n",
       "    </tr>\n",
       "    <tr>\n",
       "      <th>75%</th>\n",
       "      <td>8.200000</td>\n",
       "      <td>8.000000</td>\n",
       "      <td>0.460000</td>\n",
       "    </tr>\n",
       "    <tr>\n",
       "      <th>max</th>\n",
       "      <td>10.000000</td>\n",
       "      <td>10.000000</td>\n",
       "      <td>82.900000</td>\n",
       "    </tr>\n",
       "  </tbody>\n",
       "</table>\n",
       "</div>"
      ],
      "text/plain": [
       "       Critic_Score   User_Score  Total_Shipped\n",
       "count   9941.000000  2212.000000   19564.000000\n",
       "mean       7.033618     6.992586       0.551600\n",
       "std        1.559922     1.518455       1.672831\n",
       "min        0.800000     1.000000       0.010000\n",
       "25%        6.100000     6.300000       0.050000\n",
       "50%        7.300000     7.200000       0.160000\n",
       "75%        8.200000     8.000000       0.460000\n",
       "max       10.000000    10.000000      82.900000"
      ]
     },
     "execution_count": 221,
     "metadata": {},
     "output_type": "execute_result"
    }
   ],
   "source": [
    "sales.describe()"
   ]
  },
  {
   "cell_type": "markdown",
   "id": "9594734f",
   "metadata": {},
   "source": [
    "Both user and critics scores range from about 1 to 10 points. The minimum for the critics score is 0.8. Is this an error? Let's examine it:"
   ]
  },
  {
   "cell_type": "code",
   "execution_count": 226,
   "id": "31662a03",
   "metadata": {
    "ExecuteTime": {
     "end_time": "2024-07-12T12:46:01.962128Z",
     "start_time": "2024-07-12T12:46:01.949778Z"
    }
   },
   "outputs": [
    {
     "data": {
      "text/html": [
       "<div>\n",
       "<style scoped>\n",
       "    .dataframe tbody tr th:only-of-type {\n",
       "        vertical-align: middle;\n",
       "    }\n",
       "\n",
       "    .dataframe tbody tr th {\n",
       "        vertical-align: top;\n",
       "    }\n",
       "\n",
       "    .dataframe thead th {\n",
       "        text-align: right;\n",
       "    }\n",
       "</style>\n",
       "<table border=\"1\" class=\"dataframe\">\n",
       "  <thead>\n",
       "    <tr style=\"text-align: right;\">\n",
       "      <th></th>\n",
       "      <th>Name</th>\n",
       "      <th>Platform</th>\n",
       "      <th>Publisher</th>\n",
       "      <th>Developer</th>\n",
       "      <th>Critic_Score</th>\n",
       "      <th>User_Score</th>\n",
       "      <th>Total_Shipped</th>\n",
       "      <th>Year</th>\n",
       "    </tr>\n",
       "  </thead>\n",
       "  <tbody>\n",
       "    <tr>\n",
       "      <th>19163</th>\n",
       "      <td>Action Girlz Racing</td>\n",
       "      <td>Wii</td>\n",
       "      <td>Conspiracy Entertainment</td>\n",
       "      <td>Data Design Interactive</td>\n",
       "      <td>0.8</td>\n",
       "      <td>NaN</td>\n",
       "      <td>0.01</td>\n",
       "      <td>2008-01-01</td>\n",
       "    </tr>\n",
       "  </tbody>\n",
       "</table>\n",
       "</div>"
      ],
      "text/plain": [
       "                      Name Platform                 Publisher  \\\n",
       "19163  Action Girlz Racing      Wii  Conspiracy Entertainment   \n",
       "\n",
       "                     Developer  Critic_Score  User_Score  Total_Shipped  \\\n",
       "19163  Data Design Interactive           0.8         NaN           0.01   \n",
       "\n",
       "            Year  \n",
       "19163 2008-01-01  "
      ]
     },
     "execution_count": 226,
     "metadata": {},
     "output_type": "execute_result"
    }
   ],
   "source": [
    "sales[sales['Critic_Score'] == sales['Critic_Score'].min()]"
   ]
  },
  {
   "cell_type": "markdown",
   "id": "bda15ff5",
   "metadata": {},
   "source": [
    "After a quick glance at Metacritc site (from where the scores were collected) I noticed, that critics can review items using 100 point scale, while users can post reviews using 10 point scale, which additionally allows for decimal scores. Critic scores might have been rescaled to match user score scale. This does not affect the analysis and the results, so let's just leave it as it is."
   ]
  },
  {
   "cell_type": "code",
   "execution_count": 224,
   "id": "3e7f0c3b",
   "metadata": {
    "ExecuteTime": {
     "end_time": "2024-07-12T12:43:08.937094Z",
     "start_time": "2024-07-12T12:43:08.911907Z"
    }
   },
   "outputs": [
    {
     "data": {
      "text/html": [
       "<div>\n",
       "<style scoped>\n",
       "    .dataframe tbody tr th:only-of-type {\n",
       "        vertical-align: middle;\n",
       "    }\n",
       "\n",
       "    .dataframe tbody tr th {\n",
       "        vertical-align: top;\n",
       "    }\n",
       "\n",
       "    .dataframe thead th {\n",
       "        text-align: right;\n",
       "    }\n",
       "</style>\n",
       "<table border=\"1\" class=\"dataframe\">\n",
       "  <thead>\n",
       "    <tr style=\"text-align: right;\">\n",
       "      <th></th>\n",
       "      <th>Name</th>\n",
       "      <th>Platform</th>\n",
       "      <th>Publisher</th>\n",
       "      <th>Developer</th>\n",
       "    </tr>\n",
       "  </thead>\n",
       "  <tbody>\n",
       "    <tr>\n",
       "      <th>count</th>\n",
       "      <td>19564</td>\n",
       "      <td>19564</td>\n",
       "      <td>19564</td>\n",
       "      <td>19562</td>\n",
       "    </tr>\n",
       "    <tr>\n",
       "      <th>unique</th>\n",
       "      <td>13612</td>\n",
       "      <td>37</td>\n",
       "      <td>1012</td>\n",
       "      <td>3054</td>\n",
       "    </tr>\n",
       "    <tr>\n",
       "      <th>top</th>\n",
       "      <td>FIFA 14</td>\n",
       "      <td>DS</td>\n",
       "      <td>Activision</td>\n",
       "      <td>Unknown</td>\n",
       "    </tr>\n",
       "    <tr>\n",
       "      <th>freq</th>\n",
       "      <td>9</td>\n",
       "      <td>2249</td>\n",
       "      <td>1024</td>\n",
       "      <td>489</td>\n",
       "    </tr>\n",
       "  </tbody>\n",
       "</table>\n",
       "</div>"
      ],
      "text/plain": [
       "           Name Platform   Publisher Developer\n",
       "count     19564    19564       19564     19562\n",
       "unique    13612       37        1012      3054\n",
       "top     FIFA 14       DS  Activision   Unknown\n",
       "freq          9     2249        1024       489"
      ]
     },
     "execution_count": 224,
     "metadata": {},
     "output_type": "execute_result"
    }
   ],
   "source": [
    "sales.describe(include=['O'])"
   ]
  },
  {
   "cell_type": "code",
   "execution_count": 199,
   "id": "fa318673",
   "metadata": {
    "ExecuteTime": {
     "end_time": "2024-07-12T12:33:25.540899Z",
     "start_time": "2024-07-12T12:33:25.506469Z"
    }
   },
   "outputs": [
    {
     "name": "stdout",
     "output_type": "stream",
     "text": [
      "<class 'pandas.core.frame.DataFrame'>\n",
      "Int64Index: 19564 entries, 0 to 19599\n",
      "Data columns (total 8 columns):\n",
      " #   Column         Non-Null Count  Dtype  \n",
      "---  ------         --------------  -----  \n",
      " 0   Name           19564 non-null  object \n",
      " 1   Platform       19564 non-null  object \n",
      " 2   Publisher      19564 non-null  object \n",
      " 3   Developer      19562 non-null  object \n",
      " 4   Critic_Score   9941 non-null   float64\n",
      " 5   User_Score     2212 non-null   float64\n",
      " 6   Total_Shipped  19564 non-null  float64\n",
      " 7   Year           19564 non-null  int64  \n",
      "dtypes: float64(3), int64(1), object(4)\n",
      "memory usage: 1.3+ MB\n"
     ]
    }
   ],
   "source": [
    "sales.info()"
   ]
  },
  {
   "cell_type": "markdown",
   "id": "268cb40c",
   "metadata": {},
   "source": [
    "Percentages of missing values:"
   ]
  },
  {
   "cell_type": "code",
   "execution_count": 200,
   "id": "10e69c8a",
   "metadata": {
    "ExecuteTime": {
     "end_time": "2024-07-12T12:33:27.755746Z",
     "start_time": "2024-07-12T12:33:27.717738Z"
    }
   },
   "outputs": [
    {
     "data": {
      "text/html": [
       "<div>\n",
       "<style scoped>\n",
       "    .dataframe tbody tr th:only-of-type {\n",
       "        vertical-align: middle;\n",
       "    }\n",
       "\n",
       "    .dataframe tbody tr th {\n",
       "        vertical-align: top;\n",
       "    }\n",
       "\n",
       "    .dataframe thead th {\n",
       "        text-align: right;\n",
       "    }\n",
       "</style>\n",
       "<table border=\"1\" class=\"dataframe\">\n",
       "  <thead>\n",
       "    <tr style=\"text-align: right;\">\n",
       "      <th></th>\n",
       "      <th>null_count</th>\n",
       "      <th>%</th>\n",
       "    </tr>\n",
       "  </thead>\n",
       "  <tbody>\n",
       "    <tr>\n",
       "      <th>Name</th>\n",
       "      <td>0</td>\n",
       "      <td>0.0</td>\n",
       "    </tr>\n",
       "    <tr>\n",
       "      <th>Platform</th>\n",
       "      <td>0</td>\n",
       "      <td>0.0</td>\n",
       "    </tr>\n",
       "    <tr>\n",
       "      <th>Publisher</th>\n",
       "      <td>0</td>\n",
       "      <td>0.0</td>\n",
       "    </tr>\n",
       "    <tr>\n",
       "      <th>Developer</th>\n",
       "      <td>2</td>\n",
       "      <td>0.0</td>\n",
       "    </tr>\n",
       "    <tr>\n",
       "      <th>Critic_Score</th>\n",
       "      <td>9623</td>\n",
       "      <td>35.7</td>\n",
       "    </tr>\n",
       "    <tr>\n",
       "      <th>User_Score</th>\n",
       "      <td>17352</td>\n",
       "      <td>64.3</td>\n",
       "    </tr>\n",
       "    <tr>\n",
       "      <th>Total_Shipped</th>\n",
       "      <td>0</td>\n",
       "      <td>0.0</td>\n",
       "    </tr>\n",
       "    <tr>\n",
       "      <th>Year</th>\n",
       "      <td>0</td>\n",
       "      <td>0.0</td>\n",
       "    </tr>\n",
       "  </tbody>\n",
       "</table>\n",
       "</div>"
      ],
      "text/plain": [
       "               null_count     %\n",
       "Name                    0   0.0\n",
       "Platform                0   0.0\n",
       "Publisher               0   0.0\n",
       "Developer               2   0.0\n",
       "Critic_Score         9623  35.7\n",
       "User_Score          17352  64.3\n",
       "Total_Shipped           0   0.0\n",
       "Year                    0   0.0"
      ]
     },
     "execution_count": 200,
     "metadata": {},
     "output_type": "execute_result"
    }
   ],
   "source": [
    "na_df = sales.isna().sum().to_frame().rename({0:'null_count'},axis=1)\n",
    "na_df['%'] = (na_df['null_count'] / na_df['null_count'].sum() * 100).round(1)\n",
    "na_df"
   ]
  },
  {
   "cell_type": "markdown",
   "id": "48457e09",
   "metadata": {},
   "source": [
    "Number of unique values for categorical variables:"
   ]
  },
  {
   "cell_type": "code",
   "execution_count": 227,
   "id": "fa25a88e",
   "metadata": {
    "ExecuteTime": {
     "end_time": "2024-07-12T12:54:06.778714Z",
     "start_time": "2024-07-12T12:54:06.755154Z"
    }
   },
   "outputs": [
    {
     "data": {
      "text/plain": [
       "Name         13612\n",
       "Platform        37\n",
       "Publisher     1012\n",
       "Developer     3054\n",
       "dtype: int64"
      ]
     },
     "execution_count": 227,
     "metadata": {},
     "output_type": "execute_result"
    }
   ],
   "source": [
    "sales.select_dtypes(include='object').nunique()"
   ]
  },
  {
   "cell_type": "markdown",
   "id": "78717fab",
   "metadata": {},
   "source": [
    "There are 13612 games in total, released for 37 platforms by 1012 different publishers and created by 3054 developers, who also happen to be publishers in some cases. "
   ]
  },
  {
   "cell_type": "markdown",
   "id": "9dfa3ccc",
   "metadata": {},
   "source": [
    "### Univariate and bivariate analysis"
   ]
  },
  {
   "cell_type": "markdown",
   "id": "7183afdb",
   "metadata": {},
   "source": [
    "#### Categorical variables"
   ]
  },
  {
   "cell_type": "markdown",
   "id": "9657fa66",
   "metadata": {},
   "source": [
    "Number of games per platform:"
   ]
  },
  {
   "cell_type": "code",
   "execution_count": 242,
   "id": "1733b664",
   "metadata": {
    "ExecuteTime": {
     "end_time": "2024-07-12T13:17:38.423316Z",
     "start_time": "2024-07-12T13:17:38.147298Z"
    }
   },
   "outputs": [
    {
     "data": {
      "text/plain": [
       "<AxesSubplot: xlabel='count', ylabel='Platform'>"
      ]
     },
     "execution_count": 242,
     "metadata": {},
     "output_type": "execute_result"
    },
    {
     "data": {
      "image/png": "[encoded data removed]",
      "text/plain": [
       "<Figure size 800x600 with 1 Axes>"
      ]
     },
     "metadata": {},
     "output_type": "display_data"
    }
   ],
   "source": [
    "plt.figure(figsize=(8,6))\n",
    "sns.countplot(data=sales,y='Platform',order=sales['Platform'].value_counts().index)"
   ]
  },
  {
   "cell_type": "markdown",
   "id": "f7eabd38",
   "metadata": {},
   "source": [
    "Over the last couple of decades, majority of games were released for consoles (with DS - Double Screen, PS2, PS3, Wii in the first places) and for PC as the third platform according to popularity."
   ]
  },
  {
   "cell_type": "markdown",
   "id": "f3ff6996",
   "metadata": {},
   "source": [
    "#### Numeric variables"
   ]
  },
  {
   "cell_type": "code",
   "execution_count": 297,
   "id": "4eb973a7",
   "metadata": {
    "ExecuteTime": {
     "end_time": "2024-07-12T13:56:08.163594Z",
     "start_time": "2024-07-12T13:55:55.541472Z"
    }
   },
   "outputs": [
    {
     "data": {
      "text/plain": [
       "<seaborn.axisgrid.PairGrid at 0x7f6a24854a00>"
      ]
     },
     "execution_count": 297,
     "metadata": {},
     "output_type": "execute_result"
    },
    {
     "data": {
      "image/png": "[encoded data removed]",
      "text/plain": [
       "<Figure size 750x750 with 12 Axes>"
      ]
     },
     "metadata": {},
     "output_type": "display_data"
    }
   ],
   "source": [
    "g = sns.PairGrid(data=sales.select_dtypes('number'))\n",
    "g.map_upper(sns.kdeplot)\n",
    "g.map_diag(sns.histplot)\n",
    "g.map_lower(sns.scatterplot)"
   ]
  },
  {
   "cell_type": "markdown",
   "id": "32efe409",
   "metadata": {},
   "source": [
    "User scores are positively correlated with critic scores, which could have been anticipated. Games with critic score ~ 5-6 and less were sold in rather small quantities, while sales performance of these with higher ratings is visibly better."
   ]
  },
  {
   "cell_type": "code",
   "execution_count": 263,
   "id": "41b5a6ee",
   "metadata": {
    "ExecuteTime": {
     "end_time": "2024-07-12T13:29:25.872840Z",
     "start_time": "2024-07-12T13:29:25.613408Z"
    }
   },
   "outputs": [
    {
     "data": {
      "text/plain": [
       "<matplotlib.legend.Legend at 0x7f6a2d87bc70>"
      ]
     },
     "execution_count": 263,
     "metadata": {},
     "output_type": "execute_result"
    },
    {
     "data": {
      "image/png": "[encoded data removed]",
      "text/plain": [
       "<Figure size 640x480 with 1 Axes>"
      ]
     },
     "metadata": {},
     "output_type": "display_data"
    }
   ],
   "source": [
    "fig, ax = plt.subplots()\n",
    "sns.kdeplot(sales,x='Critic_Score',fill=True,label='Critic',ax=ax)\n",
    "sns.kdeplot(sales,x='User_Score',fill=True,label='User',ax=ax)\n",
    "ax.set_xlabel('Score')\n",
    "ax.legend()"
   ]
  },
  {
   "cell_type": "markdown",
   "id": "be6f5c20",
   "metadata": {},
   "source": [
    "The distributions of critic and users ratings are quite similar. Distribution of user scores displays a peak somewhat earlier than the distribution of critic scores (remember however, that there were almost twice as much null values in user counts, so the sample is effectively smaller). Both distributions are left-skewed."
   ]
  },
  {
   "cell_type": "code",
   "execution_count": 298,
   "id": "fe52160e",
   "metadata": {
    "ExecuteTime": {
     "end_time": "2024-07-12T13:56:27.841138Z",
     "start_time": "2024-07-12T13:56:25.524348Z"
    }
   },
   "outputs": [
    {
     "data": {
      "text/plain": [
       "Text(0.5, 0, 'Total units sold (mln copies)')"
      ]
     },
     "execution_count": 298,
     "metadata": {},
     "output_type": "execute_result"
    },
    {
     "data": {
      "image/png": "[encoded data removed]",
      "text/plain": [
       "<Figure size 640x480 with 1 Axes>"
      ]
     },
     "metadata": {},
     "output_type": "display_data"
    }
   ],
   "source": [
    "ax = sns.histplot(sales,x='Total_Shipped')\n",
    "ax.set_xlim([-1,10])\n",
    "ax.set_xlabel('Total units sold (mln copies)')"
   ]
  },
  {
   "cell_type": "markdown",
   "id": "44c5f796",
   "metadata": {},
   "source": [
    "The vast majority of games were sold in small to moderate quantities. There are a number of outliers, which most likely represent the greatest hits of all time."
   ]
  },
  {
   "cell_type": "code",
   "execution_count": 287,
   "id": "0755e53d",
   "metadata": {
    "ExecuteTime": {
     "end_time": "2024-07-12T13:37:03.440629Z",
     "start_time": "2024-07-12T13:37:03.433036Z"
    }
   },
   "outputs": [
    {
     "name": "stdout",
     "output_type": "stream",
     "text": [
      "Min year: 1977, Max year: 2020\n"
     ]
    }
   ],
   "source": [
    "print(f\"Min year: {sales['Year'].min().year}, Max year: {sales['Year'].max().year}\")"
   ]
  },
  {
   "cell_type": "markdown",
   "id": "319d3c09",
   "metadata": {},
   "source": [
    "The dataset includes games from 1977 to 2020, with the majority of the games originating between 2000 and 2016."
   ]
  },
  {
   "cell_type": "markdown",
   "id": "402e1dc0",
   "metadata": {},
   "source": [
    "How many games were released each year (or at least how many were collected in the dataset)?"
   ]
  },
  {
   "cell_type": "code",
   "execution_count": 718,
   "id": "4486fc74",
   "metadata": {
    "ExecuteTime": {
     "end_time": "2024-07-13T10:52:17.822374Z",
     "start_time": "2024-07-13T10:52:17.621442Z"
    }
   },
   "outputs": [
    {
     "data": {
      "image/png": "[encoded data removed]",
      "text/plain": [
       "<Figure size 640x480 with 1 Axes>"
      ]
     },
     "metadata": {},
     "output_type": "display_data"
    }
   ],
   "source": [
    "n_games_per_year = sales.groupby(sales['Year'].dt.year)['Name'].count()\n",
    "sns.barplot(x=n_games_per_year.index, y=n_games_per_year.values,color='tab:blue')\n",
    "plt.gca().xaxis.set_major_locator(MultipleLocator(4))"
   ]
  },
  {
   "cell_type": "markdown",
   "id": "dcfe22fe",
   "metadata": {},
   "source": [
    "## Analysis"
   ]
  },
  {
   "cell_type": "markdown",
   "id": "d1222d5c",
   "metadata": {},
   "source": [
    "### General trends in the gaming market"
   ]
  },
  {
   "cell_type": "markdown",
   "id": "086c4068",
   "metadata": {},
   "source": [
    "#### How have the median sales in global gaming market changed over the years?"
   ]
  },
  {
   "cell_type": "code",
   "execution_count": 645,
   "id": "daf0fd1f",
   "metadata": {
    "ExecuteTime": {
     "end_time": "2024-07-12T21:37:11.683708Z",
     "start_time": "2024-07-12T21:37:11.518267Z"
    }
   },
   "outputs": [
    {
     "data": {
      "image/png": "[encoded data removed]",
      "text/plain": [
       "<Figure size 640x480 with 1 Axes>"
      ]
     },
     "metadata": {},
     "output_type": "display_data"
    }
   ],
   "source": [
    "sales_yearly_trend = sales.groupby(sales['Year'].dt.year)['Total_Shipped'].median()\n",
    "sns.lineplot(sales_yearly_trend)\n",
    "plt.ylabel('Median Sales (mln copies)')\n",
    "plt.grid(lw=0.5)"
   ]
  },
  {
   "cell_type": "markdown",
   "id": "8c59dc4f",
   "metadata": {},
   "source": [
    "Why median sales and not the sum (or the mean)?\n",
    "\n",
    "Sum of sales is generally uninformative of the overall condition of the global market in given year, because the more games were released during that year, the higher the total sales will be (actually, it also depends on how the data was collected. Are the sales assigned to a game equal to the amount sold only in the year of the game's release, or is this a cumulative amount up to the day of data collection?).\n",
    "\n",
    "The histograms of total amount of games sold (Total_shipped) for separate years are very similar (i.e. highly skewed) to the one plotted earlier for entire dataset. Median allows to observe the trend (how many games were sold globally in given year), without being influenced by outliers (greatest hits). Seemingly huge sales in the 80's and 90's are likely an artifact of the dataset itself, which simply doesn't contain many games from these periods (this will happen to be an issue later as well).\n",
    "\n",
    "What we can say in general with quite high level of confidence is that median (i.e. value describing the global market in the best way) sales since 1995 oscillate around 15 000 - 20 000 copies and tend to decrease."
   ]
  },
  {
   "cell_type": "markdown",
   "id": "91ba7a87",
   "metadata": {},
   "source": [
    "Let's also differentiate the trend between various platforms:"
   ]
  },
  {
   "cell_type": "code",
   "execution_count": 639,
   "id": "507b4e5f",
   "metadata": {
    "ExecuteTime": {
     "end_time": "2024-07-12T21:27:06.246369Z",
     "start_time": "2024-07-12T21:27:06.232508Z"
    }
   },
   "outputs": [],
   "source": [
    "sales_yearly_trend_platforms = sales.groupby([sales['Year'].dt.year,'Platform'])['Total_Shipped'].agg({'median','count'}).reset_index()"
   ]
  },
  {
   "cell_type": "markdown",
   "id": "e56c5636",
   "metadata": {
    "ExecuteTime": {
     "end_time": "2024-07-12T14:26:16.493959Z",
     "start_time": "2024-07-12T14:26:16.480977Z"
    }
   },
   "source": [
    "Now we can compare different segments of the gaming industry. Let's investigate how, for instance, the sales for different generations of Playstation have changed over the years:"
   ]
  },
  {
   "cell_type": "code",
   "execution_count": 640,
   "id": "514a827c",
   "metadata": {
    "ExecuteTime": {
     "end_time": "2024-07-12T21:27:09.786030Z",
     "start_time": "2024-07-12T21:27:09.779216Z"
    }
   },
   "outputs": [],
   "source": [
    "sales_yearly_ps_generations = sales_yearly_trend_platforms[sales_yearly_trend_platforms['Platform'].isin(['PS','PS2','PS3','PS4'])]"
   ]
  },
  {
   "cell_type": "code",
   "execution_count": 642,
   "id": "85d1d488",
   "metadata": {
    "ExecuteTime": {
     "end_time": "2024-07-12T21:27:14.133067Z",
     "start_time": "2024-07-12T21:27:13.950055Z"
    }
   },
   "outputs": [
    {
     "data": {
      "text/plain": [
       "<matplotlib.legend.Legend at 0x7f6a1a23a470>"
      ]
     },
     "execution_count": 642,
     "metadata": {},
     "output_type": "execute_result"
    },
    {
     "data": {
      "image/png": "[encoded data removed]",
      "text/plain": [
       "<Figure size 640x480 with 1 Axes>"
      ]
     },
     "metadata": {},
     "output_type": "display_data"
    }
   ],
   "source": [
    "for gen in ['PS','PS2','PS3','PS4']:\n",
    "    mask = sales_yearly_ps_generations['Platform'] == gen\n",
    "    plt.fill_between(sales_yearly_ps_generations[mask]['Year'],\n",
    "                     sales_yearly_ps_generations[mask]['median'],\n",
    "                     alpha=0.75,\n",
    "                     label=gen)\n",
    "plt.legend()"
   ]
  },
  {
   "cell_type": "markdown",
   "id": "7aa61a37",
   "metadata": {},
   "source": [
    "The plot clearly separates golden times for different PS generations. A sharp peak in 2020 is an artifact resulting from the low number of games in dataset."
   ]
  },
  {
   "cell_type": "code",
   "execution_count": 657,
   "id": "573dec6a",
   "metadata": {
    "ExecuteTime": {
     "end_time": "2024-07-13T09:18:18.107102Z",
     "start_time": "2024-07-13T09:18:18.100186Z"
    }
   },
   "outputs": [
    {
     "data": {
      "text/html": [
       "<div>\n",
       "<style scoped>\n",
       "    .dataframe tbody tr th:only-of-type {\n",
       "        vertical-align: middle;\n",
       "    }\n",
       "\n",
       "    .dataframe tbody tr th {\n",
       "        vertical-align: top;\n",
       "    }\n",
       "\n",
       "    .dataframe thead th {\n",
       "        text-align: right;\n",
       "    }\n",
       "</style>\n",
       "<table border=\"1\" class=\"dataframe\">\n",
       "  <thead>\n",
       "    <tr style=\"text-align: right;\">\n",
       "      <th></th>\n",
       "      <th>Year</th>\n",
       "      <th>Platform</th>\n",
       "      <th>median</th>\n",
       "      <th>count</th>\n",
       "    </tr>\n",
       "  </thead>\n",
       "  <tbody>\n",
       "    <tr>\n",
       "      <th>224</th>\n",
       "      <td>2013</td>\n",
       "      <td>PS4</td>\n",
       "      <td>1.270</td>\n",
       "      <td>16</td>\n",
       "    </tr>\n",
       "    <tr>\n",
       "      <th>236</th>\n",
       "      <td>2014</td>\n",
       "      <td>PS4</td>\n",
       "      <td>0.670</td>\n",
       "      <td>70</td>\n",
       "    </tr>\n",
       "    <tr>\n",
       "      <th>246</th>\n",
       "      <td>2015</td>\n",
       "      <td>PS4</td>\n",
       "      <td>0.305</td>\n",
       "      <td>124</td>\n",
       "    </tr>\n",
       "    <tr>\n",
       "      <th>259</th>\n",
       "      <td>2016</td>\n",
       "      <td>PS4</td>\n",
       "      <td>0.115</td>\n",
       "      <td>196</td>\n",
       "    </tr>\n",
       "    <tr>\n",
       "      <th>270</th>\n",
       "      <td>2017</td>\n",
       "      <td>PS4</td>\n",
       "      <td>0.100</td>\n",
       "      <td>261</td>\n",
       "    </tr>\n",
       "    <tr>\n",
       "      <th>281</th>\n",
       "      <td>2018</td>\n",
       "      <td>PS4</td>\n",
       "      <td>0.060</td>\n",
       "      <td>248</td>\n",
       "    </tr>\n",
       "    <tr>\n",
       "      <th>290</th>\n",
       "      <td>2019</td>\n",
       "      <td>PS4</td>\n",
       "      <td>0.040</td>\n",
       "      <td>25</td>\n",
       "    </tr>\n",
       "    <tr>\n",
       "      <th>293</th>\n",
       "      <td>2020</td>\n",
       "      <td>PS4</td>\n",
       "      <td>0.700</td>\n",
       "      <td>8</td>\n",
       "    </tr>\n",
       "  </tbody>\n",
       "</table>\n",
       "</div>"
      ],
      "text/plain": [
       "     Year Platform  median  count\n",
       "224  2013      PS4   1.270     16\n",
       "236  2014      PS4   0.670     70\n",
       "246  2015      PS4   0.305    124\n",
       "259  2016      PS4   0.115    196\n",
       "270  2017      PS4   0.100    261\n",
       "281  2018      PS4   0.060    248\n",
       "290  2019      PS4   0.040     25\n",
       "293  2020      PS4   0.700      8"
      ]
     },
     "execution_count": 657,
     "metadata": {},
     "output_type": "execute_result"
    }
   ],
   "source": [
    "sales_yearly_ps_generations[sales_yearly_ps_generations['Platform'] == 'PS4']"
   ]
  },
  {
   "cell_type": "markdown",
   "id": "e6b9b9b3",
   "metadata": {},
   "source": [
    "#### Based on critic scores, are games getting worse or better?\n",
    "\n",
    "Let's investigate two things:\n",
    "- the number of games with the median critic score (across different platforms) >= 8.0 points\n",
    "- how the median critic score have changed over the years, with particular focus on PC games\n",
    "\n",
    "As the distribution of critic scores is skewed, I'm going to use the median instead of the mean to describe central tendency. The are some cases, when mean is more favorable even in presence of outliers ([article](https://towardsdatascience.com/mean-or-median-choose-based-on-the-decision-not-the-distribution-f951215c1376)), but here I'm going to utilize median as \"the most representative\" value anyway. For example, if a game had much worse performance on one of the platforms due to optimization issues and therefore it received lower scores for that platform, I don't want this result to disrupt the overall impression the game made on gamers (assuming it did better on other platforms)."
   ]
  },
  {
   "cell_type": "code",
   "execution_count": 721,
   "id": "33504a73",
   "metadata": {
    "ExecuteTime": {
     "end_time": "2024-07-13T10:53:10.146544Z",
     "start_time": "2024-07-13T10:53:10.020671Z"
    }
   },
   "outputs": [
    {
     "data": {
      "text/plain": [
       "Text(0, 0.5, 'Number of games')"
      ]
     },
     "execution_count": 721,
     "metadata": {},
     "output_type": "execute_result"
    },
    {
     "data": {
      "image/png": "[encoded data removed]",
      "text/plain": [
       "<Figure size 640x480 with 1 Axes>"
      ]
     },
     "metadata": {},
     "output_type": "display_data"
    }
   ],
   "source": [
    "# Calculate the median with respect to the Platform\n",
    "n_great_games_per_year = sales.groupby([sales['Year'].dt.year,'Name'])['Critic_Score'].median().dropna().reset_index()\n",
    "\n",
    "# Calculate the median with respect to the Year\n",
    "n_great_games_per_year = n_great_games_per_year[n_great_games_per_year['Critic_Score'] >= 8.0].groupby('Year')['Name'].count() \n",
    "\n",
    "markerline, stemline, baseline, = plt.stem(n_great_games.index, n_great_games.values,linefmt='k-', markerfmt='kD', basefmt='k', orientation='vertical')\n",
    "plt.setp(stemline, linewidth = 1.25)\n",
    "plt.setp(markerline, markersize = 4, color='tab:red')\n",
    "plt.ylabel('Number of games')"
   ]
  },
  {
   "cell_type": "markdown",
   "id": "95892470",
   "metadata": {},
   "source": [
    "It seems, that the number of games considered by critics to be great has been decreasing since 2003. The plot also shows, that prior to 1995 there were seemingly only a few good games per year, but again - there is a small number of games released in these years in the dataset in general, so actually the actual fraction of great games might be quite high! Let's check it out:"
   ]
  },
  {
   "cell_type": "code",
   "execution_count": 428,
   "id": "f547124e",
   "metadata": {
    "ExecuteTime": {
     "end_time": "2024-07-12T16:42:50.491005Z",
     "start_time": "2024-07-12T16:42:50.475905Z"
    }
   },
   "outputs": [],
   "source": [
    "n_great_games_per_year_joined = pd.merge(left=n_great_games_per_year.reset_index().rename({'Name':'count'},axis=1),\n",
    "                                         right=n_games_per_year.reset_index().rename({'Name':'count'},axis=1),\n",
    "                                         on='Year',\n",
    "                                         how='inner',\n",
    "                                         suffixes=('_great','_total'))\n",
    "n_great_games_per_year_joined['%Total'] = (n_great_games_per_year_joined['count_great'] / n_great_games_per_year_joined['count_total'] * 100).round(1)"
   ]
  },
  {
   "cell_type": "code",
   "execution_count": 438,
   "id": "e788cc72",
   "metadata": {
    "ExecuteTime": {
     "end_time": "2024-07-12T16:50:25.006817Z",
     "start_time": "2024-07-12T16:50:24.987766Z"
    }
   },
   "outputs": [
    {
     "data": {
      "text/html": [
       "<div>\n",
       "<style scoped>\n",
       "    .dataframe tbody tr th:only-of-type {\n",
       "        vertical-align: middle;\n",
       "    }\n",
       "\n",
       "    .dataframe tbody tr th {\n",
       "        vertical-align: top;\n",
       "    }\n",
       "\n",
       "    .dataframe thead th {\n",
       "        text-align: right;\n",
       "    }\n",
       "</style>\n",
       "<table border=\"1\" class=\"dataframe\">\n",
       "  <thead>\n",
       "    <tr style=\"text-align: right;\">\n",
       "      <th></th>\n",
       "      <th>Year</th>\n",
       "      <th>count_great</th>\n",
       "      <th>count_total</th>\n",
       "      <th>%Total</th>\n",
       "    </tr>\n",
       "  </thead>\n",
       "  <tbody>\n",
       "    <tr>\n",
       "      <th>0</th>\n",
       "      <td>1982</td>\n",
       "      <td>1</td>\n",
       "      <td>47</td>\n",
       "      <td>2.1</td>\n",
       "    </tr>\n",
       "    <tr>\n",
       "      <th>1</th>\n",
       "      <td>1984</td>\n",
       "      <td>1</td>\n",
       "      <td>12</td>\n",
       "      <td>8.3</td>\n",
       "    </tr>\n",
       "    <tr>\n",
       "      <th>2</th>\n",
       "      <td>1985</td>\n",
       "      <td>2</td>\n",
       "      <td>15</td>\n",
       "      <td>13.3</td>\n",
       "    </tr>\n",
       "    <tr>\n",
       "      <th>3</th>\n",
       "      <td>1986</td>\n",
       "      <td>1</td>\n",
       "      <td>18</td>\n",
       "      <td>5.6</td>\n",
       "    </tr>\n",
       "    <tr>\n",
       "      <th>4</th>\n",
       "      <td>1987</td>\n",
       "      <td>2</td>\n",
       "      <td>16</td>\n",
       "      <td>12.5</td>\n",
       "    </tr>\n",
       "    <tr>\n",
       "      <th>5</th>\n",
       "      <td>1988</td>\n",
       "      <td>1</td>\n",
       "      <td>17</td>\n",
       "      <td>5.9</td>\n",
       "    </tr>\n",
       "    <tr>\n",
       "      <th>6</th>\n",
       "      <td>1989</td>\n",
       "      <td>3</td>\n",
       "      <td>20</td>\n",
       "      <td>15.0</td>\n",
       "    </tr>\n",
       "    <tr>\n",
       "      <th>7</th>\n",
       "      <td>1990</td>\n",
       "      <td>5</td>\n",
       "      <td>21</td>\n",
       "      <td>23.8</td>\n",
       "    </tr>\n",
       "    <tr>\n",
       "      <th>8</th>\n",
       "      <td>1991</td>\n",
       "      <td>5</td>\n",
       "      <td>34</td>\n",
       "      <td>14.7</td>\n",
       "    </tr>\n",
       "    <tr>\n",
       "      <th>9</th>\n",
       "      <td>1992</td>\n",
       "      <td>3</td>\n",
       "      <td>40</td>\n",
       "      <td>7.5</td>\n",
       "    </tr>\n",
       "    <tr>\n",
       "      <th>10</th>\n",
       "      <td>1993</td>\n",
       "      <td>7</td>\n",
       "      <td>61</td>\n",
       "      <td>11.5</td>\n",
       "    </tr>\n",
       "    <tr>\n",
       "      <th>11</th>\n",
       "      <td>1994</td>\n",
       "      <td>5</td>\n",
       "      <td>104</td>\n",
       "      <td>4.8</td>\n",
       "    </tr>\n",
       "    <tr>\n",
       "      <th>12</th>\n",
       "      <td>1995</td>\n",
       "      <td>15</td>\n",
       "      <td>193</td>\n",
       "      <td>7.8</td>\n",
       "    </tr>\n",
       "    <tr>\n",
       "      <th>17</th>\n",
       "      <td>2000</td>\n",
       "      <td>96</td>\n",
       "      <td>411</td>\n",
       "      <td>23.4</td>\n",
       "    </tr>\n",
       "    <tr>\n",
       "      <th>18</th>\n",
       "      <td>2001</td>\n",
       "      <td>118</td>\n",
       "      <td>508</td>\n",
       "      <td>23.2</td>\n",
       "    </tr>\n",
       "    <tr>\n",
       "      <th>19</th>\n",
       "      <td>2002</td>\n",
       "      <td>138</td>\n",
       "      <td>819</td>\n",
       "      <td>16.8</td>\n",
       "    </tr>\n",
       "    <tr>\n",
       "      <th>20</th>\n",
       "      <td>2003</td>\n",
       "      <td>163</td>\n",
       "      <td>812</td>\n",
       "      <td>20.1</td>\n",
       "    </tr>\n",
       "    <tr>\n",
       "      <th>21</th>\n",
       "      <td>2004</td>\n",
       "      <td>121</td>\n",
       "      <td>778</td>\n",
       "      <td>15.6</td>\n",
       "    </tr>\n",
       "    <tr>\n",
       "      <th>22</th>\n",
       "      <td>2005</td>\n",
       "      <td>136</td>\n",
       "      <td>964</td>\n",
       "      <td>14.1</td>\n",
       "    </tr>\n",
       "    <tr>\n",
       "      <th>23</th>\n",
       "      <td>2006</td>\n",
       "      <td>105</td>\n",
       "      <td>1033</td>\n",
       "      <td>10.2</td>\n",
       "    </tr>\n",
       "    <tr>\n",
       "      <th>24</th>\n",
       "      <td>2007</td>\n",
       "      <td>104</td>\n",
       "      <td>1236</td>\n",
       "      <td>8.4</td>\n",
       "    </tr>\n",
       "    <tr>\n",
       "      <th>25</th>\n",
       "      <td>2008</td>\n",
       "      <td>104</td>\n",
       "      <td>1534</td>\n",
       "      <td>6.8</td>\n",
       "    </tr>\n",
       "    <tr>\n",
       "      <th>26</th>\n",
       "      <td>2009</td>\n",
       "      <td>114</td>\n",
       "      <td>1615</td>\n",
       "      <td>7.1</td>\n",
       "    </tr>\n",
       "    <tr>\n",
       "      <th>27</th>\n",
       "      <td>2010</td>\n",
       "      <td>91</td>\n",
       "      <td>1401</td>\n",
       "      <td>6.5</td>\n",
       "    </tr>\n",
       "  </tbody>\n",
       "</table>\n",
       "</div>"
      ],
      "text/plain": [
       "    Year  count_great  count_total  %Total\n",
       "0   1982            1           47     2.1\n",
       "1   1984            1           12     8.3\n",
       "2   1985            2           15    13.3\n",
       "3   1986            1           18     5.6\n",
       "4   1987            2           16    12.5\n",
       "5   1988            1           17     5.9\n",
       "6   1989            3           20    15.0\n",
       "7   1990            5           21    23.8\n",
       "8   1991            5           34    14.7\n",
       "9   1992            3           40     7.5\n",
       "10  1993            7           61    11.5\n",
       "11  1994            5          104     4.8\n",
       "12  1995           15          193     7.8\n",
       "17  2000           96          411    23.4\n",
       "18  2001          118          508    23.2\n",
       "19  2002          138          819    16.8\n",
       "20  2003          163          812    20.1\n",
       "21  2004          121          778    15.6\n",
       "22  2005          136          964    14.1\n",
       "23  2006          105         1033    10.2\n",
       "24  2007          104         1236     8.4\n",
       "25  2008          104         1534     6.8\n",
       "26  2009          114         1615     7.1\n",
       "27  2010           91         1401     6.5"
      ]
     },
     "execution_count": 438,
     "metadata": {},
     "output_type": "execute_result"
    }
   ],
   "source": [
    "n_great_games_per_year_joined[(n_great_games_per_year_joined['Year'].between(1977, 1995)) | (n_great_games_per_year_joined['Year'].between(2000, 2010))]"
   ]
  },
  {
   "cell_type": "markdown",
   "id": "11672b5f",
   "metadata": {},
   "source": [
    "Well, maybe the hypothesis wasn't so accurate as I thought. The dataset contains only a few games released between 1977 and 1995, making it challenging to draw confident conclusions about this period. Additionally, games released before 1982 are absent from this summary, suggesting a lack of available reviews for those titles.  On the other hand, in 2001 the percentage of games considered to be \"great\" by our criteria is quite high (23.2%), considering the total number of games released this year (508).\n",
    "\n",
    "Actually, the critic score in the dataset is likely an average of scores published by various critics on Metacritic. The information about the number of original reviews would be valuable and could improve conclusions, but unfortunately it's not available. "
   ]
  },
  {
   "cell_type": "markdown",
   "id": "55f5809f",
   "metadata": {},
   "source": [
    "How about median critic scores for PC games (specifically between 2000 and 2018)?"
   ]
  },
  {
   "cell_type": "code",
   "execution_count": 760,
   "id": "e5b6d82a",
   "metadata": {
    "ExecuteTime": {
     "end_time": "2024-07-13T20:37:36.733199Z",
     "start_time": "2024-07-13T20:37:36.386203Z"
    }
   },
   "outputs": [
    {
     "data": {
      "image/png": "[encoded data removed]",
      "text/plain": [
       "<Figure size 1000x400 with 2 Axes>"
      ]
     },
     "metadata": {},
     "output_type": "display_data"
    }
   ],
   "source": [
    "pc_game_sales = sales[sales['Platform'] == 'PC']\n",
    "pc_game_sales = pc_game_sales.groupby(pc_game_sales['Year'].dt.year)['Critic_Score'].agg(['median','count'])\n",
    "\n",
    "fig, ax = plt.subplots(figsize=(10,4),ncols=2)\n",
    "sns.lineplot(pc_game_sales['median'].loc[2000:2018],ax=ax[0])\n",
    "sns.barplot(x=pc_game_sales['count'].index, y=pc_game_sales['count'].values,color='tab:blue',ax=ax[1])\n",
    "\n",
    "ax[0].xaxis.set_major_locator(MultipleLocator(2))\n",
    "ax[0].grid(lw=0.5)\n",
    "\n",
    "ax[1].xaxis.set_major_locator(MultipleLocator(4))\n",
    "plt.tight_layout()"
   ]
  },
  {
   "cell_type": "markdown",
   "id": "3bce8b46",
   "metadata": {
    "ExecuteTime": {
     "end_time": "2024-07-12T19:20:08.386513Z",
     "start_time": "2024-07-12T19:20:08.372237Z"
    }
   },
   "source": [
    "I included the second plot (to the right) not without a reason - it depicts the number of games for personal computers released in particular years. The plot to the left shows the variation in median critic score for PC games between 2000 and 2018. The number of games included for some periods (before 2000's and after 2018) are too low to draw meaningful conclusions, in my opinion (for example, the median rating of PC games in 1994 is equal to 9.3 point, but it's only due to the fact, that there is only one PC game from 1993 in the dataset, making the sample unrepresentative! And yes, there were many more PC games back then). Also, many games lack the score, so they were discarded as NaNs. There are just not enough data. \n",
    "\n",
    "Side note: 2010 was a king of PC games, at least in terms of number of released titles."
   ]
  },
  {
   "cell_type": "markdown",
   "id": "e4fb2f81",
   "metadata": {},
   "source": [
    "#### Which platforms are loved by the critics?"
   ]
  },
  {
   "cell_type": "code",
   "execution_count": 705,
   "id": "5b96988b",
   "metadata": {
    "ExecuteTime": {
     "end_time": "2024-07-13T10:26:15.384383Z",
     "start_time": "2024-07-13T10:26:15.361103Z"
    }
   },
   "outputs": [
    {
     "data": {
      "text/plain": [
       "Platform\n",
       "GEN     8.80\n",
       "SNES    8.80\n",
       "DC      8.60\n",
       "SAT     8.40\n",
       "2600    8.30\n",
       "GB      8.15\n",
       "PC      7.90\n",
       "NS      7.80\n",
       "XB      7.70\n",
       "XOne    7.70\n",
       "Name: Critic_Score, dtype: float64"
      ]
     },
     "execution_count": 705,
     "metadata": {},
     "output_type": "execute_result"
    }
   ],
   "source": [
    "platforms_filtered_by_game_count = sales.groupby('Platform')['Name'].count().reset_index()\n",
    "platforms_filtered_by_game_count = platforms_filtered_by_game_count[platforms_filtered_by_game_count['Name'] > 30]['Platform']\n",
    "sales[sales['Platform'].isin(platforms_filtered_by_game_count)].groupby('Platform')['Critic_Score'].median().nlargest(10)"
   ]
  },
  {
   "cell_type": "markdown",
   "id": "660d8ef8",
   "metadata": {},
   "source": [
    "#### How do median sales vary based on critic score?"
   ]
  },
  {
   "cell_type": "markdown",
   "id": "407b82b7",
   "metadata": {},
   "source": [
    "Let's divide the games into three groups using critic scores:\n",
    "- low: critic score < 5.5\n",
    "- medium: 5.5 <= critic score <= 8.5, \n",
    "- high: critic score > 8.5\n",
    "\n",
    "And analyze the median sales in each group. The score I will use to assign a group to particular game will be a median of scores attributed to different platforms if the game was published on more than one. "
   ]
  },
  {
   "cell_type": "code",
   "execution_count": 701,
   "id": "aa7fc06e",
   "metadata": {
    "ExecuteTime": {
     "end_time": "2024-07-13T10:24:28.256885Z",
     "start_time": "2024-07-13T10:24:28.253853Z"
    }
   },
   "outputs": [],
   "source": [
    "def score2group(score):\n",
    "    if score < 5.5:\n",
    "        return 'Low'\n",
    "    elif 5.5 <= score <= 8.5:\n",
    "        return 'Medium'\n",
    "    else:\n",
    "        return 'High'"
   ]
  },
  {
   "cell_type": "code",
   "execution_count": 702,
   "id": "4dae5fba",
   "metadata": {
    "ExecuteTime": {
     "end_time": "2024-07-13T10:24:28.514610Z",
     "start_time": "2024-07-13T10:24:28.463165Z"
    }
   },
   "outputs": [],
   "source": [
    "sales_grouped_by_score = sales.groupby('Name').agg({'Total_Shipped':'sum','Critic_Score':'median'}).dropna().reset_index()\n",
    "sales_grouped_by_score['Label'] = sales_grouped_by_score['Critic_Score'].apply(lambda x: score2group(x))\n",
    "sales_grouped_by_score = sales_grouped_by_score.groupby('Label')['Total_Shipped'].agg(['count','median']).reset_index()"
   ]
  },
  {
   "cell_type": "code",
   "execution_count": 651,
   "id": "6f606c39",
   "metadata": {
    "ExecuteTime": {
     "end_time": "2024-07-13T07:43:30.881500Z",
     "start_time": "2024-07-13T07:43:30.747851Z"
    }
   },
   "outputs": [
    {
     "data": {
      "text/plain": [
       "<AxesSubplot: xlabel='Label', ylabel='median'>"
      ]
     },
     "execution_count": 651,
     "metadata": {},
     "output_type": "execute_result"
    },
    {
     "data": {
      "image/png": "[encoded data removed]",
      "text/plain": [
       "<Figure size 640x480 with 1 Axes>"
      ]
     },
     "metadata": {},
     "output_type": "display_data"
    }
   ],
   "source": [
    "sns.barplot(data=sales_grouped_by_score,x='Label',y='median',order=['Low','Medium','High'])"
   ]
  },
  {
   "cell_type": "code",
   "execution_count": 652,
   "id": "fb31f429",
   "metadata": {
    "ExecuteTime": {
     "end_time": "2024-07-13T07:43:33.998342Z",
     "start_time": "2024-07-13T07:43:33.992428Z"
    }
   },
   "outputs": [
    {
     "data": {
      "text/html": [
       "<div>\n",
       "<style scoped>\n",
       "    .dataframe tbody tr th:only-of-type {\n",
       "        vertical-align: middle;\n",
       "    }\n",
       "\n",
       "    .dataframe tbody tr th {\n",
       "        vertical-align: top;\n",
       "    }\n",
       "\n",
       "    .dataframe thead th {\n",
       "        text-align: right;\n",
       "    }\n",
       "</style>\n",
       "<table border=\"1\" class=\"dataframe\">\n",
       "  <thead>\n",
       "    <tr style=\"text-align: right;\">\n",
       "      <th></th>\n",
       "      <th>Label</th>\n",
       "      <th>count</th>\n",
       "      <th>median</th>\n",
       "    </tr>\n",
       "  </thead>\n",
       "  <tbody>\n",
       "    <tr>\n",
       "      <th>0</th>\n",
       "      <td>High</td>\n",
       "      <td>891</td>\n",
       "      <td>1.59</td>\n",
       "    </tr>\n",
       "    <tr>\n",
       "      <th>1</th>\n",
       "      <td>Low</td>\n",
       "      <td>1053</td>\n",
       "      <td>0.18</td>\n",
       "    </tr>\n",
       "    <tr>\n",
       "      <th>2</th>\n",
       "      <td>Medium</td>\n",
       "      <td>4628</td>\n",
       "      <td>0.38</td>\n",
       "    </tr>\n",
       "  </tbody>\n",
       "</table>\n",
       "</div>"
      ],
      "text/plain": [
       "    Label  count  median\n",
       "0    High    891    1.59\n",
       "1     Low   1053    0.18\n",
       "2  Medium   4628    0.38"
      ]
     },
     "execution_count": 652,
     "metadata": {},
     "output_type": "execute_result"
    }
   ],
   "source": [
    "sales_grouped_by_score"
   ]
  },
  {
   "cell_type": "markdown",
   "id": "971ebeac",
   "metadata": {},
   "source": [
    "As we might expect the median sales of a game vary, depending on the median critic score (and thus assigned label). The difference between medium and high groups is large, but it also depends on how we define \"Medium\" and \"High\"."
   ]
  },
  {
   "cell_type": "markdown",
   "id": "a8af14d8",
   "metadata": {},
   "source": [
    "How much higher are median sales of top-rated games in comparison to the average and bad ones?"
   ]
  },
  {
   "cell_type": "code",
   "execution_count": 731,
   "id": "e6d03a7d",
   "metadata": {
    "ExecuteTime": {
     "end_time": "2024-07-13T20:21:07.163154Z",
     "start_time": "2024-07-13T20:21:07.158188Z"
    }
   },
   "outputs": [
    {
     "name": "stdout",
     "output_type": "stream",
     "text": [
      "Comparison with mediocre games: 318.4% higher median sales\n",
      "Comparison with lowest-rated games: 783.3% higher median sales\n"
     ]
    }
   ],
   "source": [
    "median_sales = sales_grouped_by_score['median'] \n",
    "print(f\"Comparison with mediocre games: {(median_sales.iloc[0] - median_sales.iloc[2]) / median_sales.iloc[2] * 100:.1f}% higher median sales\")\n",
    "print(f\"Comparison with lowest-rated games: {(median_sales.iloc[0] - median_sales.iloc[1]) / median_sales.iloc[1] * 100:.1f}% higher median sales\")"
   ]
  },
  {
   "cell_type": "markdown",
   "id": "8b0c845f",
   "metadata": {},
   "source": [
    "#### Identify top 5% of the games according to critic score per year with an additional restriction, that their median score can't be lower than 8.5 points. "
   ]
  },
  {
   "cell_type": "code",
   "execution_count": 756,
   "id": "2b86fdd6",
   "metadata": {
    "ExecuteTime": {
     "end_time": "2024-07-13T20:31:54.992669Z",
     "start_time": "2024-07-13T20:31:54.968537Z"
    }
   },
   "outputs": [],
   "source": [
    "top_rated_games_mask = sales.groupby(['Name'])['Critic_Score'].median() >= 8.5\n",
    "top_rated_games = sales[sales['Name'].isin(top_rated_games_mask.index)].dropna(subset='Critic_Score')\n",
    "top_rated_games['rank'] = top_rated_games.groupby(['Year'])['Critic_Score'].rank(pct=True,ascending=True)\n",
    "top_rated_games = top_rated_games[top_rated_games['rank'] >= 0.95]"
   ]
  },
  {
   "cell_type": "code",
   "execution_count": 758,
   "id": "09caa041",
   "metadata": {
    "ExecuteTime": {
     "end_time": "2024-07-13T20:32:15.315060Z",
     "start_time": "2024-07-13T20:32:15.305094Z"
    }
   },
   "outputs": [
    {
     "data": {
      "text/html": [
       "<div>\n",
       "<style scoped>\n",
       "    .dataframe tbody tr th:only-of-type {\n",
       "        vertical-align: middle;\n",
       "    }\n",
       "\n",
       "    .dataframe tbody tr th {\n",
       "        vertical-align: top;\n",
       "    }\n",
       "\n",
       "    .dataframe thead th {\n",
       "        text-align: right;\n",
       "    }\n",
       "</style>\n",
       "<table border=\"1\" class=\"dataframe\">\n",
       "  <thead>\n",
       "    <tr style=\"text-align: right;\">\n",
       "      <th></th>\n",
       "      <th>Name</th>\n",
       "      <th>Platform</th>\n",
       "      <th>Year</th>\n",
       "    </tr>\n",
       "  </thead>\n",
       "  <tbody>\n",
       "    <tr>\n",
       "      <th>1</th>\n",
       "      <td>Super Mario Bros.</td>\n",
       "      <td>NES</td>\n",
       "      <td>1985-01-01</td>\n",
       "    </tr>\n",
       "    <tr>\n",
       "      <th>5</th>\n",
       "      <td>Minecraft</td>\n",
       "      <td>PC</td>\n",
       "      <td>2010-01-01</td>\n",
       "    </tr>\n",
       "    <tr>\n",
       "      <th>7</th>\n",
       "      <td>Pokemon Red / Green / Blue Version</td>\n",
       "      <td>GB</td>\n",
       "      <td>1998-01-01</td>\n",
       "    </tr>\n",
       "    <tr>\n",
       "      <th>8</th>\n",
       "      <td>New Super Mario Bros.</td>\n",
       "      <td>DS</td>\n",
       "      <td>2006-01-01</td>\n",
       "    </tr>\n",
       "    <tr>\n",
       "      <th>10</th>\n",
       "      <td>Tetris</td>\n",
       "      <td>GB</td>\n",
       "      <td>1989-01-01</td>\n",
       "    </tr>\n",
       "    <tr>\n",
       "      <th>...</th>\n",
       "      <td>...</td>\n",
       "      <td>...</td>\n",
       "      <td>...</td>\n",
       "    </tr>\n",
       "    <tr>\n",
       "      <th>18359</th>\n",
       "      <td>Grand Theft Auto III</td>\n",
       "      <td>PC</td>\n",
       "      <td>2002-01-01</td>\n",
       "    </tr>\n",
       "    <tr>\n",
       "      <th>19253</th>\n",
       "      <td>Thief: The Dark Project</td>\n",
       "      <td>PC</td>\n",
       "      <td>1998-01-01</td>\n",
       "    </tr>\n",
       "    <tr>\n",
       "      <th>19262</th>\n",
       "      <td>Child of Light</td>\n",
       "      <td>PC</td>\n",
       "      <td>2014-01-01</td>\n",
       "    </tr>\n",
       "    <tr>\n",
       "      <th>19264</th>\n",
       "      <td>Undertale</td>\n",
       "      <td>PS4</td>\n",
       "      <td>2017-01-01</td>\n",
       "    </tr>\n",
       "    <tr>\n",
       "      <th>19596</th>\n",
       "      <td>Tom Clancy's Splinter Cell</td>\n",
       "      <td>PC</td>\n",
       "      <td>2003-01-01</td>\n",
       "    </tr>\n",
       "  </tbody>\n",
       "</table>\n",
       "<p>506 rows × 3 columns</p>\n",
       "</div>"
      ],
      "text/plain": [
       "                                     Name Platform       Year\n",
       "1                       Super Mario Bros.      NES 1985-01-01\n",
       "5                               Minecraft       PC 2010-01-01\n",
       "7      Pokemon Red / Green / Blue Version       GB 1998-01-01\n",
       "8                   New Super Mario Bros.       DS 2006-01-01\n",
       "10                                 Tetris       GB 1989-01-01\n",
       "...                                   ...      ...        ...\n",
       "18359                Grand Theft Auto III       PC 2002-01-01\n",
       "19253             Thief: The Dark Project       PC 1998-01-01\n",
       "19262                      Child of Light       PC 2014-01-01\n",
       "19264                           Undertale      PS4 2017-01-01\n",
       "19596          Tom Clancy's Splinter Cell       PC 2003-01-01\n",
       "\n",
       "[506 rows x 3 columns]"
      ]
     },
     "execution_count": 758,
     "metadata": {},
     "output_type": "execute_result"
    }
   ],
   "source": [
    "top_rated_games[['Name','Platform','Year']]"
   ]
  },
  {
   "cell_type": "markdown",
   "id": "1c53616a",
   "metadata": {},
   "source": [
    "#### Finally, what are 3 top-selling and 3 top-rated games of all times?"
   ]
  },
  {
   "cell_type": "code",
   "execution_count": 697,
   "id": "437bc06e",
   "metadata": {
    "ExecuteTime": {
     "end_time": "2024-07-13T10:13:49.164564Z",
     "start_time": "2024-07-13T10:13:49.091772Z"
    }
   },
   "outputs": [
    {
     "name": "stdout",
     "output_type": "stream",
     "text": [
      "Top selling games of all times: Wii Sports, Grand Theft Auto V, Minecraft\n",
      "Top rated games of all times: Final Fantasy II, Final Fight, Grand Theft Auto IV, Red Dead Redemption: Undead Nightmare, Super Mario Bros., Super Mario Kart, Super Mario Odyssey, The Legend of Zelda: Breath of the Wild, The Legend of Zelda: Ocarina of Time\n"
     ]
    }
   ],
   "source": [
    "import numpy as np\n",
    "best_selling_games = sales.groupby('Name')['Total_Shipped'].sum().nlargest(3).index.tolist()\n",
    "\n",
    "# Use rank to allow for ex-aequo places\n",
    "best_rated_games = sales.groupby('Name')['Critic_Score'].median().rank(method='dense',ascending=False)\n",
    "best_rated_games = best_rated_games[best_rated_games <= 3].index.tolist()\n",
    "\n",
    "print(f\"Top selling games of all times: {', '.join(best_selling_games)}\")\n",
    "print(f\"Top rated games of all times: {', '.join(best_rated_games)}\")"
   ]
  },
  {
   "cell_type": "markdown",
   "id": "a32e3369",
   "metadata": {},
   "source": [
    "When were they released?"
   ]
  },
  {
   "cell_type": "code",
   "execution_count": 724,
   "id": "d7a6eb8f",
   "metadata": {
    "ExecuteTime": {
     "end_time": "2024-07-13T20:18:40.834927Z",
     "start_time": "2024-07-13T20:18:40.816676Z"
    }
   },
   "outputs": [
    {
     "data": {
      "text/html": [
       "<div>\n",
       "<style scoped>\n",
       "    .dataframe tbody tr th:only-of-type {\n",
       "        vertical-align: middle;\n",
       "    }\n",
       "\n",
       "    .dataframe tbody tr th {\n",
       "        vertical-align: top;\n",
       "    }\n",
       "\n",
       "    .dataframe thead th {\n",
       "        text-align: right;\n",
       "    }\n",
       "</style>\n",
       "<table border=\"1\" class=\"dataframe\">\n",
       "  <thead>\n",
       "    <tr style=\"text-align: right;\">\n",
       "      <th></th>\n",
       "      <th>Name</th>\n",
       "      <th>Platform</th>\n",
       "      <th>Year</th>\n",
       "    </tr>\n",
       "  </thead>\n",
       "  <tbody>\n",
       "    <tr>\n",
       "      <th>0</th>\n",
       "      <td>Wii Sports</td>\n",
       "      <td>Wii</td>\n",
       "      <td>2006-01-01</td>\n",
       "    </tr>\n",
       "    <tr>\n",
       "      <th>5</th>\n",
       "      <td>Minecraft</td>\n",
       "      <td>PC</td>\n",
       "      <td>2010-01-01</td>\n",
       "    </tr>\n",
       "    <tr>\n",
       "      <th>22</th>\n",
       "      <td>Grand Theft Auto V</td>\n",
       "      <td>PS3</td>\n",
       "      <td>2013-01-01</td>\n",
       "    </tr>\n",
       "    <tr>\n",
       "      <th>40</th>\n",
       "      <td>Grand Theft Auto V</td>\n",
       "      <td>X360</td>\n",
       "      <td>2013-01-01</td>\n",
       "    </tr>\n",
       "    <tr>\n",
       "      <th>65</th>\n",
       "      <td>Minecraft</td>\n",
       "      <td>X360</td>\n",
       "      <td>2013-01-01</td>\n",
       "    </tr>\n",
       "    <tr>\n",
       "      <th>23</th>\n",
       "      <td>Grand Theft Auto V</td>\n",
       "      <td>PS4</td>\n",
       "      <td>2014-01-01</td>\n",
       "    </tr>\n",
       "    <tr>\n",
       "      <th>122</th>\n",
       "      <td>Grand Theft Auto V</td>\n",
       "      <td>XOne</td>\n",
       "      <td>2014-01-01</td>\n",
       "    </tr>\n",
       "    <tr>\n",
       "      <th>183</th>\n",
       "      <td>Minecraft</td>\n",
       "      <td>PS4</td>\n",
       "      <td>2014-01-01</td>\n",
       "    </tr>\n",
       "    <tr>\n",
       "      <th>193</th>\n",
       "      <td>Minecraft</td>\n",
       "      <td>PS3</td>\n",
       "      <td>2014-01-01</td>\n",
       "    </tr>\n",
       "    <tr>\n",
       "      <th>228</th>\n",
       "      <td>Minecraft</td>\n",
       "      <td>XOne</td>\n",
       "      <td>2014-01-01</td>\n",
       "    </tr>\n",
       "    <tr>\n",
       "      <th>783</th>\n",
       "      <td>Minecraft</td>\n",
       "      <td>PSV</td>\n",
       "      <td>2014-01-01</td>\n",
       "    </tr>\n",
       "    <tr>\n",
       "      <th>70</th>\n",
       "      <td>Grand Theft Auto V</td>\n",
       "      <td>PC</td>\n",
       "      <td>2015-01-01</td>\n",
       "    </tr>\n",
       "    <tr>\n",
       "      <th>1564</th>\n",
       "      <td>Minecraft</td>\n",
       "      <td>WiiU</td>\n",
       "      <td>2016-01-01</td>\n",
       "    </tr>\n",
       "    <tr>\n",
       "      <th>5788</th>\n",
       "      <td>Minecraft</td>\n",
       "      <td>3DS</td>\n",
       "      <td>2017-01-01</td>\n",
       "    </tr>\n",
       "    <tr>\n",
       "      <th>1130</th>\n",
       "      <td>Minecraft</td>\n",
       "      <td>NS</td>\n",
       "      <td>2018-01-01</td>\n",
       "    </tr>\n",
       "  </tbody>\n",
       "</table>\n",
       "</div>"
      ],
      "text/plain": [
       "                    Name Platform       Year\n",
       "0             Wii Sports      Wii 2006-01-01\n",
       "5              Minecraft       PC 2010-01-01\n",
       "22    Grand Theft Auto V      PS3 2013-01-01\n",
       "40    Grand Theft Auto V     X360 2013-01-01\n",
       "65             Minecraft     X360 2013-01-01\n",
       "23    Grand Theft Auto V      PS4 2014-01-01\n",
       "122   Grand Theft Auto V     XOne 2014-01-01\n",
       "183            Minecraft      PS4 2014-01-01\n",
       "193            Minecraft      PS3 2014-01-01\n",
       "228            Minecraft     XOne 2014-01-01\n",
       "783            Minecraft      PSV 2014-01-01\n",
       "70    Grand Theft Auto V       PC 2015-01-01\n",
       "1564           Minecraft     WiiU 2016-01-01\n",
       "5788           Minecraft      3DS 2017-01-01\n",
       "1130           Minecraft       NS 2018-01-01"
      ]
     },
     "execution_count": 724,
     "metadata": {},
     "output_type": "execute_result"
    }
   ],
   "source": [
    "sales[sales['Name'].isin(best_selling_games)][['Name','Platform','Year']].sort_values(by='Year')"
   ]
  },
  {
   "cell_type": "code",
   "execution_count": 725,
   "id": "88de743f",
   "metadata": {
    "ExecuteTime": {
     "end_time": "2024-07-13T20:18:49.541858Z",
     "start_time": "2024-07-13T20:18:49.524658Z"
    }
   },
   "outputs": [
    {
     "data": {
      "text/html": [
       "<div>\n",
       "<style scoped>\n",
       "    .dataframe tbody tr th:only-of-type {\n",
       "        vertical-align: middle;\n",
       "    }\n",
       "\n",
       "    .dataframe tbody tr th {\n",
       "        vertical-align: top;\n",
       "    }\n",
       "\n",
       "    .dataframe thead th {\n",
       "        text-align: right;\n",
       "    }\n",
       "</style>\n",
       "<table border=\"1\" class=\"dataframe\">\n",
       "  <thead>\n",
       "    <tr style=\"text-align: right;\">\n",
       "      <th></th>\n",
       "      <th>Name</th>\n",
       "      <th>Platform</th>\n",
       "      <th>Year</th>\n",
       "    </tr>\n",
       "  </thead>\n",
       "  <tbody>\n",
       "    <tr>\n",
       "      <th>1</th>\n",
       "      <td>Super Mario Bros.</td>\n",
       "      <td>NES</td>\n",
       "      <td>1985-01-01</td>\n",
       "    </tr>\n",
       "    <tr>\n",
       "      <th>3164</th>\n",
       "      <td>Final Fantasy II</td>\n",
       "      <td>NES</td>\n",
       "      <td>1988-01-01</td>\n",
       "    </tr>\n",
       "    <tr>\n",
       "      <th>1285</th>\n",
       "      <td>Final Fantasy II</td>\n",
       "      <td>SNES</td>\n",
       "      <td>1991-01-01</td>\n",
       "    </tr>\n",
       "    <tr>\n",
       "      <th>1545</th>\n",
       "      <td>Final Fight</td>\n",
       "      <td>SNES</td>\n",
       "      <td>1991-01-01</td>\n",
       "    </tr>\n",
       "    <tr>\n",
       "      <th>121</th>\n",
       "      <td>Super Mario Kart</td>\n",
       "      <td>SNES</td>\n",
       "      <td>1992-01-01</td>\n",
       "    </tr>\n",
       "    <tr>\n",
       "      <th>142</th>\n",
       "      <td>The Legend of Zelda: Ocarina of Time</td>\n",
       "      <td>N64</td>\n",
       "      <td>1998-01-01</td>\n",
       "    </tr>\n",
       "    <tr>\n",
       "      <th>7552</th>\n",
       "      <td>Final Fantasy II</td>\n",
       "      <td>WS</td>\n",
       "      <td>2001-01-01</td>\n",
       "    </tr>\n",
       "    <tr>\n",
       "      <th>85</th>\n",
       "      <td>Grand Theft Auto IV</td>\n",
       "      <td>X360</td>\n",
       "      <td>2008-01-01</td>\n",
       "    </tr>\n",
       "    <tr>\n",
       "      <th>93</th>\n",
       "      <td>Grand Theft Auto IV</td>\n",
       "      <td>PS3</td>\n",
       "      <td>2008-01-01</td>\n",
       "    </tr>\n",
       "    <tr>\n",
       "      <th>2812</th>\n",
       "      <td>Grand Theft Auto IV</td>\n",
       "      <td>PC</td>\n",
       "      <td>2008-01-01</td>\n",
       "    </tr>\n",
       "    <tr>\n",
       "      <th>2026</th>\n",
       "      <td>Red Dead Redemption: Undead Nightmare</td>\n",
       "      <td>PS3</td>\n",
       "      <td>2010-01-01</td>\n",
       "    </tr>\n",
       "    <tr>\n",
       "      <th>2168</th>\n",
       "      <td>Red Dead Redemption: Undead Nightmare</td>\n",
       "      <td>X360</td>\n",
       "      <td>2010-01-01</td>\n",
       "    </tr>\n",
       "    <tr>\n",
       "      <th>29</th>\n",
       "      <td>Super Mario Odyssey</td>\n",
       "      <td>NS</td>\n",
       "      <td>2017-01-01</td>\n",
       "    </tr>\n",
       "    <tr>\n",
       "      <th>30</th>\n",
       "      <td>The Legend of Zelda: Breath of the Wild</td>\n",
       "      <td>NS</td>\n",
       "      <td>2017-01-01</td>\n",
       "    </tr>\n",
       "    <tr>\n",
       "      <th>1327</th>\n",
       "      <td>The Legend of Zelda: Breath of the Wild</td>\n",
       "      <td>WiiU</td>\n",
       "      <td>2017-01-01</td>\n",
       "    </tr>\n",
       "  </tbody>\n",
       "</table>\n",
       "</div>"
      ],
      "text/plain": [
       "                                         Name Platform       Year\n",
       "1                           Super Mario Bros.      NES 1985-01-01\n",
       "3164                         Final Fantasy II      NES 1988-01-01\n",
       "1285                         Final Fantasy II     SNES 1991-01-01\n",
       "1545                              Final Fight     SNES 1991-01-01\n",
       "121                          Super Mario Kart     SNES 1992-01-01\n",
       "142      The Legend of Zelda: Ocarina of Time      N64 1998-01-01\n",
       "7552                         Final Fantasy II       WS 2001-01-01\n",
       "85                        Grand Theft Auto IV     X360 2008-01-01\n",
       "93                        Grand Theft Auto IV      PS3 2008-01-01\n",
       "2812                      Grand Theft Auto IV       PC 2008-01-01\n",
       "2026    Red Dead Redemption: Undead Nightmare      PS3 2010-01-01\n",
       "2168    Red Dead Redemption: Undead Nightmare     X360 2010-01-01\n",
       "29                        Super Mario Odyssey       NS 2017-01-01\n",
       "30    The Legend of Zelda: Breath of the Wild       NS 2017-01-01\n",
       "1327  The Legend of Zelda: Breath of the Wild     WiiU 2017-01-01"
      ]
     },
     "execution_count": 725,
     "metadata": {},
     "output_type": "execute_result"
    }
   ],
   "source": [
    "sales[sales['Name'].isin(best_rated_games)][['Name','Platform','Year']].sort_values(by='Year')"
   ]
  },
  {
   "cell_type": "markdown",
   "id": "90d2f2af",
   "metadata": {},
   "source": [
    "#### Conclusions"
   ]
  },
  {
   "cell_type": "markdown",
   "id": "451d08cb",
   "metadata": {
    "ExecuteTime": {
     "end_time": "2024-07-13T07:49:24.207654Z",
     "start_time": "2024-07-13T07:49:24.204092Z"
    }
   },
   "source": [
    "Through analysis we can conclude, that:\n",
    "- The global gaming market is dominated by consoles, with PC taking third place in terms of the number of games released. Among the top-rated games of all time, only one (Grand Theft Auto IV) was released for personal computers, in addition to versions for the Xbox 360 and PlayStation 3.\n",
    "- The year 2003 had the highest number of great games (median score across all platforms >= 8.0). A decline in the number of good games is observed in subsequent years.\n",
    "- Sales are associated with critic scores. Median sales of top-rated games are 320% higher than the median sales of games with average ratings and 780% higher than the sales of the lowest-rated games."
   ]
  }
 ],
 "metadata": {
  "kernelspec": {
   "display_name": "Python 3 (ipykernel)",
   "language": "python",
   "name": "python3"
  },
  "language_info": {
   "codemirror_mode": {
    "name": "ipython",
    "version": 3
   },
   "file_extension": ".py",
   "mimetype": "text/x-python",
   "name": "python",
   "nbconvert_exporter": "python",
   "pygments_lexer": "ipython3",
   "version": "3.10.12"
  },
  "toc": {
   "base_numbering": 1,
   "nav_menu": {},
   "number_sections": true,
   "sideBar": true,
   "skip_h1_title": false,
   "title_cell": "Table of Contents",
   "title_sidebar": "Contents",
   "toc_cell": false,
   "toc_position": {},
   "toc_section_display": true,
   "toc_window_display": false
  }
 },
 "nbformat": 4,
 "nbformat_minor": 5
}
