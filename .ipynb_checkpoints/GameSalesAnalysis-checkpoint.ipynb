{
 "cells": [
  {
   "cell_type": "code",
   "execution_count": 1,
   "id": "26310d79",
   "metadata": {
    "ExecuteTime": {
     "end_time": "2024-07-15T20:49:53.740977Z",
     "start_time": "2024-07-15T20:49:52.493731Z"
    }
   },
   "outputs": [],
   "source": [
    "import pandas as pd\n",
    "import matplotlib.pyplot as plt\n",
    "import seaborn as sns"
   ]
  },
  {
   "cell_type": "markdown",
   "id": "976b3a71",
   "metadata": {},
   "source": [
    "## Introduction"
   ]
  },
  {
   "cell_type": "markdown",
   "id": "c4fd0407",
   "metadata": {},
   "source": [
    "### Goal"
   ]
  },
  {
   "cell_type": "markdown",
   "id": "64c5396f",
   "metadata": {},
   "source": [
    "This notebook tries to investigate the **trends** in the gaming market over the last three decades through a detailed analysis based on available data. \n",
    "\n",
    "The notebook contains numerous comments aimed at explaining the analysis and decisions made, as well as clarifying potential concerns about the quality of the data."
   ]
  },
  {
   "cell_type": "markdown",
   "id": "871eb173",
   "metadata": {},
   "source": [
    "### Dataset"
   ]
  },
  {
   "cell_type": "markdown",
   "id": "9de075d1",
   "metadata": {},
   "source": [
    "The dataset contains 8 columns:\n",
    "- Game title (Name)\n",
    "- Platform, for which the game was published (Platform)\n",
    "- The publisher of the game (Publisher)\n",
    "- The developer of the game (Developer)\n",
    "- Critic score, scraped from Metacritic (Critic_Score)\n",
    "- User score, scraped from Metacritic (User_Score)\n",
    "- Total units sold, in mln copies (Total_Shipped)\n",
    "- Year of the release (Year)\n",
    "\n",
    "The full dataset can be found on [Kaggle](https://www.kaggle.com/datasets/holmjason2/videogamedata)."
   ]
  },
  {
   "cell_type": "markdown",
   "id": "2af67ce6",
   "metadata": {},
   "source": [
    "## EDA"
   ]
  },
  {
   "cell_type": "markdown",
   "id": "4b765cee",
   "metadata": {},
   "source": [
    "### Import data"
   ]
  },
  {
   "cell_type": "code",
   "execution_count": 2,
   "id": "20d8ab1a",
   "metadata": {
    "ExecuteTime": {
     "end_time": "2024-07-15T20:49:54.391666Z",
     "start_time": "2024-07-15T20:49:54.353749Z"
    }
   },
   "outputs": [],
   "source": [
    "sales = pd.read_csv('data/game_sales_data.csv')"
   ]
  },
  {
   "cell_type": "code",
   "execution_count": 3,
   "id": "74a078dc",
   "metadata": {
    "ExecuteTime": {
     "end_time": "2024-07-15T20:49:54.573834Z",
     "start_time": "2024-07-15T20:49:54.542688Z"
    }
   },
   "outputs": [
    {
     "data": {
      "text/html": [
       "<div>\n",
       "<style scoped>\n",
       "    .dataframe tbody tr th:only-of-type {\n",
       "        vertical-align: middle;\n",
       "    }\n",
       "\n",
       "    .dataframe tbody tr th {\n",
       "        vertical-align: top;\n",
       "    }\n",
       "\n",
       "    .dataframe thead th {\n",
       "        text-align: right;\n",
       "    }\n",
       "</style>\n",
       "<table border=\"1\" class=\"dataframe\">\n",
       "  <thead>\n",
       "    <tr style=\"text-align: right;\">\n",
       "      <th></th>\n",
       "      <th>Name</th>\n",
       "      <th>Platform</th>\n",
       "      <th>Publisher</th>\n",
       "      <th>Developer</th>\n",
       "      <th>Critic_Score</th>\n",
       "      <th>User_Score</th>\n",
       "      <th>Total_Shipped</th>\n",
       "      <th>Year</th>\n",
       "    </tr>\n",
       "  </thead>\n",
       "  <tbody>\n",
       "    <tr>\n",
       "      <th>0</th>\n",
       "      <td>Wii Sports</td>\n",
       "      <td>Wii</td>\n",
       "      <td>Nintendo</td>\n",
       "      <td>Nintendo EAD</td>\n",
       "      <td>7.7</td>\n",
       "      <td>8.0</td>\n",
       "      <td>82.90</td>\n",
       "      <td>2006</td>\n",
       "    </tr>\n",
       "    <tr>\n",
       "      <th>1</th>\n",
       "      <td>Super Mario Bros.</td>\n",
       "      <td>NES</td>\n",
       "      <td>Nintendo</td>\n",
       "      <td>Nintendo EAD</td>\n",
       "      <td>10.0</td>\n",
       "      <td>8.2</td>\n",
       "      <td>40.24</td>\n",
       "      <td>1985</td>\n",
       "    </tr>\n",
       "    <tr>\n",
       "      <th>2</th>\n",
       "      <td>Counter-Strike: Global Offensive</td>\n",
       "      <td>PC</td>\n",
       "      <td>Valve</td>\n",
       "      <td>Valve Corporation</td>\n",
       "      <td>8.0</td>\n",
       "      <td>7.5</td>\n",
       "      <td>40.00</td>\n",
       "      <td>2012</td>\n",
       "    </tr>\n",
       "    <tr>\n",
       "      <th>3</th>\n",
       "      <td>Mario Kart Wii</td>\n",
       "      <td>Wii</td>\n",
       "      <td>Nintendo</td>\n",
       "      <td>Nintendo EAD</td>\n",
       "      <td>8.2</td>\n",
       "      <td>9.1</td>\n",
       "      <td>37.32</td>\n",
       "      <td>2008</td>\n",
       "    </tr>\n",
       "    <tr>\n",
       "      <th>4</th>\n",
       "      <td>PLAYERUNKNOWN'S BATTLEGROUNDS</td>\n",
       "      <td>PC</td>\n",
       "      <td>PUBG Corporation</td>\n",
       "      <td>PUBG Corporation</td>\n",
       "      <td>8.6</td>\n",
       "      <td>4.7</td>\n",
       "      <td>36.60</td>\n",
       "      <td>2017</td>\n",
       "    </tr>\n",
       "  </tbody>\n",
       "</table>\n",
       "</div>"
      ],
      "text/plain": [
       "                               Name Platform         Publisher  \\\n",
       "0                        Wii Sports      Wii          Nintendo   \n",
       "1                 Super Mario Bros.      NES          Nintendo   \n",
       "2  Counter-Strike: Global Offensive       PC             Valve   \n",
       "3                    Mario Kart Wii      Wii          Nintendo   \n",
       "4     PLAYERUNKNOWN'S BATTLEGROUNDS       PC  PUBG Corporation   \n",
       "\n",
       "           Developer  Critic_Score  User_Score  Total_Shipped  Year  \n",
       "0       Nintendo EAD           7.7         8.0          82.90  2006  \n",
       "1       Nintendo EAD          10.0         8.2          40.24  1985  \n",
       "2  Valve Corporation           8.0         7.5          40.00  2012  \n",
       "3       Nintendo EAD           8.2         9.1          37.32  2008  \n",
       "4   PUBG Corporation           8.6         4.7          36.60  2017  "
      ]
     },
     "execution_count": 3,
     "metadata": {},
     "output_type": "execute_result"
    }
   ],
   "source": [
    "sales.head()"
   ]
  },
  {
   "cell_type": "markdown",
   "id": "a8e32470",
   "metadata": {
    "ExecuteTime": {
     "end_time": "2024-07-12T09:27:40.263084Z",
     "start_time": "2024-07-12T09:27:40.259247Z"
    }
   },
   "source": [
    "### Data overview"
   ]
  },
  {
   "cell_type": "markdown",
   "id": "fb42b161",
   "metadata": {},
   "source": [
    "Are there any duplicates? If so, remove them. I'm using a subset of variables, because a duplicated game may happen to have different reviews/total_shipping for some reason. In such case it won't get detected if all variables are used as a filtering criterion:"
   ]
  },
  {
   "cell_type": "code",
   "execution_count": 4,
   "id": "066ef59e",
   "metadata": {
    "ExecuteTime": {
     "end_time": "2024-07-15T20:49:55.393576Z",
     "start_time": "2024-07-15T20:49:55.336331Z"
    }
   },
   "outputs": [
    {
     "name": "stdout",
     "output_type": "stream",
     "text": [
      "Number of duplicates in sales: 36\n"
     ]
    }
   ],
   "source": [
    "print(f\"Number of duplicates in sales: {sales.duplicated(subset=['Name','Platform','Developer','Year']).sum()}\")\n",
    "sales.drop_duplicates(inplace=True,subset=['Name','Platform','Developer','Year'])"
   ]
  },
  {
   "cell_type": "markdown",
   "id": "532672ce",
   "metadata": {},
   "source": [
    "Let's also convert year to Datetime:"
   ]
  },
  {
   "cell_type": "code",
   "execution_count": 5,
   "id": "ac64b6a4",
   "metadata": {
    "ExecuteTime": {
     "end_time": "2024-07-15T20:49:55.708755Z",
     "start_time": "2024-07-15T20:49:55.690118Z"
    }
   },
   "outputs": [],
   "source": [
    "sales['Year'] = pd.to_datetime(sales['Year'], format='%Y')"
   ]
  },
  {
   "cell_type": "code",
   "execution_count": 6,
   "id": "f9cd79b4",
   "metadata": {
    "ExecuteTime": {
     "end_time": "2024-07-15T20:49:55.891757Z",
     "start_time": "2024-07-15T20:49:55.864458Z"
    }
   },
   "outputs": [
    {
     "data": {
      "text/html": [
       "<div>\n",
       "<style scoped>\n",
       "    .dataframe tbody tr th:only-of-type {\n",
       "        vertical-align: middle;\n",
       "    }\n",
       "\n",
       "    .dataframe tbody tr th {\n",
       "        vertical-align: top;\n",
       "    }\n",
       "\n",
       "    .dataframe thead th {\n",
       "        text-align: right;\n",
       "    }\n",
       "</style>\n",
       "<table border=\"1\" class=\"dataframe\">\n",
       "  <thead>\n",
       "    <tr style=\"text-align: right;\">\n",
       "      <th></th>\n",
       "      <th>Critic_Score</th>\n",
       "      <th>User_Score</th>\n",
       "      <th>Total_Shipped</th>\n",
       "    </tr>\n",
       "  </thead>\n",
       "  <tbody>\n",
       "    <tr>\n",
       "      <th>count</th>\n",
       "      <td>9941.000000</td>\n",
       "      <td>2212.000000</td>\n",
       "      <td>19564.000000</td>\n",
       "    </tr>\n",
       "    <tr>\n",
       "      <th>mean</th>\n",
       "      <td>7.033618</td>\n",
       "      <td>6.992586</td>\n",
       "      <td>0.551600</td>\n",
       "    </tr>\n",
       "    <tr>\n",
       "      <th>std</th>\n",
       "      <td>1.559922</td>\n",
       "      <td>1.518455</td>\n",
       "      <td>1.672831</td>\n",
       "    </tr>\n",
       "    <tr>\n",
       "      <th>min</th>\n",
       "      <td>0.800000</td>\n",
       "      <td>1.000000</td>\n",
       "      <td>0.010000</td>\n",
       "    </tr>\n",
       "    <tr>\n",
       "      <th>25%</th>\n",
       "      <td>6.100000</td>\n",
       "      <td>6.300000</td>\n",
       "      <td>0.050000</td>\n",
       "    </tr>\n",
       "    <tr>\n",
       "      <th>50%</th>\n",
       "      <td>7.300000</td>\n",
       "      <td>7.200000</td>\n",
       "      <td>0.160000</td>\n",
       "    </tr>\n",
       "    <tr>\n",
       "      <th>75%</th>\n",
       "      <td>8.200000</td>\n",
       "      <td>8.000000</td>\n",
       "      <td>0.460000</td>\n",
       "    </tr>\n",
       "    <tr>\n",
       "      <th>max</th>\n",
       "      <td>10.000000</td>\n",
       "      <td>10.000000</td>\n",
       "      <td>82.900000</td>\n",
       "    </tr>\n",
       "  </tbody>\n",
       "</table>\n",
       "</div>"
      ],
      "text/plain": [
       "       Critic_Score   User_Score  Total_Shipped\n",
       "count   9941.000000  2212.000000   19564.000000\n",
       "mean       7.033618     6.992586       0.551600\n",
       "std        1.559922     1.518455       1.672831\n",
       "min        0.800000     1.000000       0.010000\n",
       "25%        6.100000     6.300000       0.050000\n",
       "50%        7.300000     7.200000       0.160000\n",
       "75%        8.200000     8.000000       0.460000\n",
       "max       10.000000    10.000000      82.900000"
      ]
     },
     "execution_count": 6,
     "metadata": {},
     "output_type": "execute_result"
    }
   ],
   "source": [
    "sales.describe()"
   ]
  },
  {
   "cell_type": "markdown",
   "id": "689d4cd3",
   "metadata": {},
   "source": [
    "Both user and critics scores range from about 1 to 10 points. The minimum for the critics score is 0.8. Is this an error? Let's examine it:"
   ]
  },
  {
   "cell_type": "code",
   "execution_count": 7,
   "id": "88dc77a4",
   "metadata": {
    "ExecuteTime": {
     "end_time": "2024-07-15T20:49:56.253439Z",
     "start_time": "2024-07-15T20:49:56.233842Z"
    }
   },
   "outputs": [
    {
     "data": {
      "text/html": [
       "<div>\n",
       "<style scoped>\n",
       "    .dataframe tbody tr th:only-of-type {\n",
       "        vertical-align: middle;\n",
       "    }\n",
       "\n",
       "    .dataframe tbody tr th {\n",
       "        vertical-align: top;\n",
       "    }\n",
       "\n",
       "    .dataframe thead th {\n",
       "        text-align: right;\n",
       "    }\n",
       "</style>\n",
       "<table border=\"1\" class=\"dataframe\">\n",
       "  <thead>\n",
       "    <tr style=\"text-align: right;\">\n",
       "      <th></th>\n",
       "      <th>Name</th>\n",
       "      <th>Platform</th>\n",
       "      <th>Publisher</th>\n",
       "      <th>Developer</th>\n",
       "      <th>Critic_Score</th>\n",
       "      <th>User_Score</th>\n",
       "      <th>Total_Shipped</th>\n",
       "      <th>Year</th>\n",
       "    </tr>\n",
       "  </thead>\n",
       "  <tbody>\n",
       "    <tr>\n",
       "      <th>19163</th>\n",
       "      <td>Action Girlz Racing</td>\n",
       "      <td>Wii</td>\n",
       "      <td>Conspiracy Entertainment</td>\n",
       "      <td>Data Design Interactive</td>\n",
       "      <td>0.8</td>\n",
       "      <td>NaN</td>\n",
       "      <td>0.01</td>\n",
       "      <td>2008-01-01</td>\n",
       "    </tr>\n",
       "  </tbody>\n",
       "</table>\n",
       "</div>"
      ],
      "text/plain": [
       "                      Name Platform                 Publisher  \\\n",
       "19163  Action Girlz Racing      Wii  Conspiracy Entertainment   \n",
       "\n",
       "                     Developer  Critic_Score  User_Score  Total_Shipped  \\\n",
       "19163  Data Design Interactive           0.8         NaN           0.01   \n",
       "\n",
       "            Year  \n",
       "19163 2008-01-01  "
      ]
     },
     "execution_count": 7,
     "metadata": {},
     "output_type": "execute_result"
    }
   ],
   "source": [
    "sales[sales['Critic_Score'] == sales['Critic_Score'].min()]"
   ]
  },
  {
   "cell_type": "markdown",
   "id": "756180f4",
   "metadata": {},
   "source": [
    "After a quick glance at Metacritc site (from where the scores were collected) I noticed, that critics can review items using 100 point scale, while users can post reviews using 10 point scale, which additionally allows for decimal scores. Critic scores might have been rescaled to match user score scale. This does not affect the analysis and the results, so let's just leave it as it is."
   ]
  },
  {
   "cell_type": "code",
   "execution_count": 8,
   "id": "57fd77b4",
   "metadata": {
    "ExecuteTime": {
     "end_time": "2024-07-15T20:49:56.646297Z",
     "start_time": "2024-07-15T20:49:56.598018Z"
    }
   },
   "outputs": [
    {
     "data": {
      "text/html": [
       "<div>\n",
       "<style scoped>\n",
       "    .dataframe tbody tr th:only-of-type {\n",
       "        vertical-align: middle;\n",
       "    }\n",
       "\n",
       "    .dataframe tbody tr th {\n",
       "        vertical-align: top;\n",
       "    }\n",
       "\n",
       "    .dataframe thead th {\n",
       "        text-align: right;\n",
       "    }\n",
       "</style>\n",
       "<table border=\"1\" class=\"dataframe\">\n",
       "  <thead>\n",
       "    <tr style=\"text-align: right;\">\n",
       "      <th></th>\n",
       "      <th>Name</th>\n",
       "      <th>Platform</th>\n",
       "      <th>Publisher</th>\n",
       "      <th>Developer</th>\n",
       "    </tr>\n",
       "  </thead>\n",
       "  <tbody>\n",
       "    <tr>\n",
       "      <th>count</th>\n",
       "      <td>19564</td>\n",
       "      <td>19564</td>\n",
       "      <td>19564</td>\n",
       "      <td>19562</td>\n",
       "    </tr>\n",
       "    <tr>\n",
       "      <th>unique</th>\n",
       "      <td>13612</td>\n",
       "      <td>37</td>\n",
       "      <td>1012</td>\n",
       "      <td>3054</td>\n",
       "    </tr>\n",
       "    <tr>\n",
       "      <th>top</th>\n",
       "      <td>FIFA 14</td>\n",
       "      <td>DS</td>\n",
       "      <td>Activision</td>\n",
       "      <td>Unknown</td>\n",
       "    </tr>\n",
       "    <tr>\n",
       "      <th>freq</th>\n",
       "      <td>9</td>\n",
       "      <td>2249</td>\n",
       "      <td>1024</td>\n",
       "      <td>489</td>\n",
       "    </tr>\n",
       "  </tbody>\n",
       "</table>\n",
       "</div>"
      ],
      "text/plain": [
       "           Name Platform   Publisher Developer\n",
       "count     19564    19564       19564     19562\n",
       "unique    13612       37        1012      3054\n",
       "top     FIFA 14       DS  Activision   Unknown\n",
       "freq          9     2249        1024       489"
      ]
     },
     "execution_count": 8,
     "metadata": {},
     "output_type": "execute_result"
    }
   ],
   "source": [
    "sales.describe(include=['O'])"
   ]
  },
  {
   "cell_type": "code",
   "execution_count": 9,
   "id": "43e924b3",
   "metadata": {
    "ExecuteTime": {
     "end_time": "2024-07-15T20:49:56.838243Z",
     "start_time": "2024-07-15T20:49:56.793721Z"
    }
   },
   "outputs": [
    {
     "name": "stdout",
     "output_type": "stream",
     "text": [
      "<class 'pandas.core.frame.DataFrame'>\n",
      "Int64Index: 19564 entries, 0 to 19599\n",
      "Data columns (total 8 columns):\n",
      " #   Column         Non-Null Count  Dtype         \n",
      "---  ------         --------------  -----         \n",
      " 0   Name           19564 non-null  object        \n",
      " 1   Platform       19564 non-null  object        \n",
      " 2   Publisher      19564 non-null  object        \n",
      " 3   Developer      19562 non-null  object        \n",
      " 4   Critic_Score   9941 non-null   float64       \n",
      " 5   User_Score     2212 non-null   float64       \n",
      " 6   Total_Shipped  19564 non-null  float64       \n",
      " 7   Year           19564 non-null  datetime64[ns]\n",
      "dtypes: datetime64[ns](1), float64(3), object(4)\n",
      "memory usage: 1.3+ MB\n"
     ]
    }
   ],
   "source": [
    "sales.info()"
   ]
  },
  {
   "cell_type": "markdown",
   "id": "9b1a8ce3",
   "metadata": {},
   "source": [
    "Percentages of missing values:"
   ]
  },
  {
   "cell_type": "code",
   "execution_count": 10,
   "id": "6e4527e7",
   "metadata": {
    "ExecuteTime": {
     "end_time": "2024-07-15T20:49:57.218585Z",
     "start_time": "2024-07-15T20:49:57.180140Z"
    }
   },
   "outputs": [
    {
     "data": {
      "text/html": [
       "<div>\n",
       "<style scoped>\n",
       "    .dataframe tbody tr th:only-of-type {\n",
       "        vertical-align: middle;\n",
       "    }\n",
       "\n",
       "    .dataframe tbody tr th {\n",
       "        vertical-align: top;\n",
       "    }\n",
       "\n",
       "    .dataframe thead th {\n",
       "        text-align: right;\n",
       "    }\n",
       "</style>\n",
       "<table border=\"1\" class=\"dataframe\">\n",
       "  <thead>\n",
       "    <tr style=\"text-align: right;\">\n",
       "      <th></th>\n",
       "      <th>null_count</th>\n",
       "      <th>%</th>\n",
       "    </tr>\n",
       "  </thead>\n",
       "  <tbody>\n",
       "    <tr>\n",
       "      <th>Name</th>\n",
       "      <td>0</td>\n",
       "      <td>0.0</td>\n",
       "    </tr>\n",
       "    <tr>\n",
       "      <th>Platform</th>\n",
       "      <td>0</td>\n",
       "      <td>0.0</td>\n",
       "    </tr>\n",
       "    <tr>\n",
       "      <th>Publisher</th>\n",
       "      <td>0</td>\n",
       "      <td>0.0</td>\n",
       "    </tr>\n",
       "    <tr>\n",
       "      <th>Developer</th>\n",
       "      <td>2</td>\n",
       "      <td>0.0</td>\n",
       "    </tr>\n",
       "    <tr>\n",
       "      <th>Critic_Score</th>\n",
       "      <td>9623</td>\n",
       "      <td>35.7</td>\n",
       "    </tr>\n",
       "    <tr>\n",
       "      <th>User_Score</th>\n",
       "      <td>17352</td>\n",
       "      <td>64.3</td>\n",
       "    </tr>\n",
       "    <tr>\n",
       "      <th>Total_Shipped</th>\n",
       "      <td>0</td>\n",
       "      <td>0.0</td>\n",
       "    </tr>\n",
       "    <tr>\n",
       "      <th>Year</th>\n",
       "      <td>0</td>\n",
       "      <td>0.0</td>\n",
       "    </tr>\n",
       "  </tbody>\n",
       "</table>\n",
       "</div>"
      ],
      "text/plain": [
       "               null_count     %\n",
       "Name                    0   0.0\n",
       "Platform                0   0.0\n",
       "Publisher               0   0.0\n",
       "Developer               2   0.0\n",
       "Critic_Score         9623  35.7\n",
       "User_Score          17352  64.3\n",
       "Total_Shipped           0   0.0\n",
       "Year                    0   0.0"
      ]
     },
     "execution_count": 10,
     "metadata": {},
     "output_type": "execute_result"
    }
   ],
   "source": [
    "na_df = sales.isna().sum().to_frame().rename({0:'null_count'},axis=1)\n",
    "na_df['%'] = (na_df['null_count'] / na_df['null_count'].sum() * 100).round(1)\n",
    "na_df"
   ]
  },
  {
   "cell_type": "markdown",
   "id": "791b8fb8",
   "metadata": {},
   "source": [
    "Number of unique values for categorical variables:"
   ]
  },
  {
   "cell_type": "code",
   "execution_count": 11,
   "id": "c192a27c",
   "metadata": {
    "ExecuteTime": {
     "end_time": "2024-07-15T20:49:57.578043Z",
     "start_time": "2024-07-15T20:49:57.544850Z"
    }
   },
   "outputs": [
    {
     "data": {
      "text/plain": [
       "Name         13612\n",
       "Platform        37\n",
       "Publisher     1012\n",
       "Developer     3054\n",
       "dtype: int64"
      ]
     },
     "execution_count": 11,
     "metadata": {},
     "output_type": "execute_result"
    }
   ],
   "source": [
    "sales.select_dtypes(include='object').nunique()"
   ]
  },
  {
   "cell_type": "markdown",
   "id": "c26ea230",
   "metadata": {},
   "source": [
    "There are 13612 games in total, released for 37 platforms by 1012 different publishers and created by 3054 developers, who also happen to be publishers in some cases. "
   ]
  },
  {
   "cell_type": "markdown",
   "id": "53e13cf8",
   "metadata": {},
   "source": [
    "### Univariate and bivariate analysis"
   ]
  },
  {
   "cell_type": "markdown",
   "id": "7ccf894b",
   "metadata": {},
   "source": [
    "#### Categorical variables"
   ]
  },
  {
   "cell_type": "markdown",
   "id": "20d7991c",
   "metadata": {},
   "source": [
    "Number of games per platform:"
   ]
  },
  {
   "cell_type": "code",
   "execution_count": 12,
   "id": "8ea93a3b",
   "metadata": {
    "ExecuteTime": {
     "end_time": "2024-07-15T20:49:58.835836Z",
     "start_time": "2024-07-15T20:49:58.532935Z"
    }
   },
   "outputs": [
    {
     "data": {
      "text/plain": [
       "<AxesSubplot: xlabel='count', ylabel='Platform'>"
      ]
     },
     "execution_count": 12,
     "metadata": {},
     "output_type": "execute_result"
    },
    {
     "data": {
      "image/png": "[encoded data removed]",
      "text/plain": [
       "<Figure size 800x600 with 1 Axes>"
      ]
     },
     "metadata": {},
     "output_type": "display_data"
    }
   ],
   "source": [
    "plt.figure(figsize=(8,6))\n",
    "sns.countplot(data=sales,y='Platform',order=sales['Platform'].value_counts().index)"
   ]
  },
  {
   "cell_type": "markdown",
   "id": "c7eb394f",
   "metadata": {},
   "source": [
    "Over the last couple of decades, majority of games were released for consoles (with DS - Double Screen, PS2, PS3, Wii in the first places) and for PC as the third platform according to popularity."
   ]
  },
  {
   "cell_type": "markdown",
   "id": "5f99d56d",
   "metadata": {},
   "source": [
    "#### Numeric variables"
   ]
  },
  {
   "cell_type": "code",
   "execution_count": 13,
   "id": "ef7b70fe",
   "metadata": {
    "ExecuteTime": {
     "end_time": "2024-07-15T20:50:12.000233Z",
     "start_time": "2024-07-15T20:49:59.137413Z"
    }
   },
   "outputs": [
    {
     "data": {
      "text/plain": [
       "<seaborn.axisgrid.PairGrid at 0x7f58c7e3ff70>"
      ]
     },
     "execution_count": 13,
     "metadata": {},
     "output_type": "execute_result"
    },
    {
     "data": {
      "image/png": "[encoded data removed]",
      "text/plain": [
       "<Figure size 750x750 with 12 Axes>"
      ]
     },
     "metadata": {},
     "output_type": "display_data"
    }
   ],
   "source": [
    "g = sns.PairGrid(data=sales.select_dtypes('number'))\n",
    "g.map_upper(sns.kdeplot)\n",
    "g.map_diag(sns.histplot)\n",
    "g.map_lower(sns.scatterplot)"
   ]
  },
  {
   "cell_type": "markdown",
   "id": "80f33411",
   "metadata": {},
   "source": [
    "User scores are positively correlated with critic scores, which could have been anticipated. Games with critic score ~ 5-6 and less were sold in rather small quantities, while sales performance of these with higher ratings is visibly better."
   ]
  },
  {
   "cell_type": "code",
   "execution_count": 14,
   "id": "a6c62642",
   "metadata": {
    "ExecuteTime": {
     "end_time": "2024-07-15T20:50:12.228188Z",
     "start_time": "2024-07-15T20:50:12.002051Z"
    }
   },
   "outputs": [
    {
     "data": {
      "text/plain": [
       "<matplotlib.legend.Legend at 0x7f58bbf033d0>"
      ]
     },
     "execution_count": 14,
     "metadata": {},
     "output_type": "execute_result"
    },
    {
     "data": {
      "image/png": "[encoded data removed]",
      "text/plain": [
       "<Figure size 640x480 with 1 Axes>"
      ]
     },
     "metadata": {},
     "output_type": "display_data"
    }
   ],
   "source": [
    "fig, ax = plt.subplots()\n",
    "sns.kdeplot(sales,x='Critic_Score',fill=True,label='Critic',ax=ax)\n",
    "sns.kdeplot(sales,x='User_Score',fill=True,label='User',ax=ax)\n",
    "ax.set_xlabel('Score')\n",
    "ax.legend()"
   ]
  },
  {
   "cell_type": "markdown",
   "id": "9e2f3bc0",
   "metadata": {},
   "source": [
    "The distributions of critic and users ratings are quite similar. Distribution of user scores displays a peak somewhat earlier than the distribution of critic scores (remember however, that there were almost twice as much null values in user counts, so the sample is effectively smaller). Both distributions are left-skewed."
   ]
  },
  {
   "cell_type": "code",
   "execution_count": 15,
   "id": "626ed6d8",
   "metadata": {
    "ExecuteTime": {
     "end_time": "2024-07-15T20:50:14.814013Z",
     "start_time": "2024-07-15T20:50:12.229779Z"
    }
   },
   "outputs": [
    {
     "data": {
      "text/plain": [
       "Text(0.5, 0, 'Total units sold (mln copies)')"
      ]
     },
     "execution_count": 15,
     "metadata": {},
     "output_type": "execute_result"
    },
    {
     "data": {
      "image/png": "[encoded data removed]",
      "text/plain": [
       "<Figure size 640x480 with 1 Axes>"
      ]
     },
     "metadata": {},
     "output_type": "display_data"
    }
   ],
   "source": [
    "ax = sns.histplot(sales,x='Total_Shipped')\n",
    "ax.set_xlim([-1,10])\n",
    "ax.set_xlabel('Total units sold (mln copies)')"
   ]
  },
  {
   "cell_type": "markdown",
   "id": "af6f3f6f",
   "metadata": {},
   "source": [
    "The vast majority of games were sold in small to moderate quantities. There are a number of outliers, which most likely represent the greatest hits of all time."
   ]
  },
  {
   "cell_type": "code",
   "execution_count": 16,
   "id": "8c45b7fe",
   "metadata": {
    "ExecuteTime": {
     "end_time": "2024-07-15T20:50:14.820542Z",
     "start_time": "2024-07-15T20:50:14.816741Z"
    }
   },
   "outputs": [
    {
     "name": "stdout",
     "output_type": "stream",
     "text": [
      "Min year: 1977, Max year: 2020\n"
     ]
    }
   ],
   "source": [
    "print(f\"Min year: {sales['Year'].min().year}, Max year: {sales['Year'].max().year}\")"
   ]
  },
  {
   "cell_type": "markdown",
   "id": "ab74efd2",
   "metadata": {},
   "source": [
    "The dataset includes games from 1977 to 2020, with the majority of the games originating between 2000 and 2016."
   ]
  },
  {
   "cell_type": "markdown",
   "id": "797c5671",
   "metadata": {},
   "source": [
    "How many games were released each year (or at least how many were collected in the dataset)?"
   ]
  },
  {
   "cell_type": "code",
   "execution_count": 17,
   "id": "75afd251",
   "metadata": {
    "ExecuteTime": {
     "end_time": "2024-07-15T20:50:15.429366Z",
     "start_time": "2024-07-15T20:50:14.822515Z"
    }
   },
   "outputs": [
    {
     "ename": "NameError",
     "evalue": "name 'MultipleLocator' is not defined",
     "output_type": "error",
     "traceback": [
      "\u001b[0;31m---------------------------------------------------------------------------\u001b[0m",
      "\u001b[0;31mNameError\u001b[0m                                 Traceback (most recent call last)",
      "Cell \u001b[0;32mIn [17], line 3\u001b[0m\n\u001b[1;32m      1\u001b[0m n_games_per_year \u001b[38;5;241m=\u001b[39m sales\u001b[38;5;241m.\u001b[39mgroupby(sales[\u001b[38;5;124m'\u001b[39m\u001b[38;5;124mYear\u001b[39m\u001b[38;5;124m'\u001b[39m]\u001b[38;5;241m.\u001b[39mdt\u001b[38;5;241m.\u001b[39myear)[\u001b[38;5;124m'\u001b[39m\u001b[38;5;124mName\u001b[39m\u001b[38;5;124m'\u001b[39m]\u001b[38;5;241m.\u001b[39mcount()\n\u001b[1;32m      2\u001b[0m sns\u001b[38;5;241m.\u001b[39mbarplot(x\u001b[38;5;241m=\u001b[39mn_games_per_year\u001b[38;5;241m.\u001b[39mindex, y\u001b[38;5;241m=\u001b[39mn_games_per_year\u001b[38;5;241m.\u001b[39mvalues,color\u001b[38;5;241m=\u001b[39m\u001b[38;5;124m'\u001b[39m\u001b[38;5;124mtab:blue\u001b[39m\u001b[38;5;124m'\u001b[39m)\n\u001b[0;32m----> 3\u001b[0m plt\u001b[38;5;241m.\u001b[39mgca()\u001b[38;5;241m.\u001b[39mxaxis\u001b[38;5;241m.\u001b[39mset_major_locator(MultipleLocator(\u001b[38;5;241m4\u001b[39m))\n",
      "\u001b[0;31mNameError\u001b[0m: name 'MultipleLocator' is not defined"
     ]
    },
    {
     "data": {
      "image/png": "[encoded data removed]",
      "text/plain": [
       "<Figure size 640x480 with 1 Axes>"
      ]
     },
     "metadata": {},
     "output_type": "display_data"
    }
   ],
   "source": [
    "n_games_per_year = sales.groupby(sales['Year'].dt.year)['Name'].count()\n",
    "sns.barplot(x=n_games_per_year.index, y=n_games_per_year.values,color='tab:blue')\n",
    "plt.gca().xaxis.set_major_locator(MultipleLocator(4))"
   ]
  },
  {
   "cell_type": "markdown",
   "id": "dcfe22fe",
   "metadata": {},
   "source": [
    "## Analysis"
   ]
  },
  {
   "cell_type": "markdown",
   "id": "20c1f132",
   "metadata": {},
   "source": [
    "### General trends in the gaming market"
   ]
  },
  {
   "cell_type": "markdown",
   "id": "4d724d4e",
   "metadata": {},
   "source": [
    "#### How have the median sales in global gaming market changed over the years?"
   ]
  },
  {
   "cell_type": "code",
   "execution_count": 18,
   "id": "56036054",
   "metadata": {
    "ExecuteTime": {
     "end_time": "2024-07-15T20:51:19.802296Z",
     "start_time": "2024-07-15T20:51:19.633061Z"
    }
   },
   "outputs": [
    {
     "data": {
      "image/png": "[encoded data removed]",
      "text/plain": [
       "<Figure size 640x480 with 1 Axes>"
      ]
     },
     "metadata": {},
     "output_type": "display_data"
    }
   ],
   "source": [
    "sales_yearly_trend = sales.groupby(sales['Year'].dt.year)['Total_Shipped'].median()\n",
    "sns.lineplot(sales_yearly_trend)\n",
    "plt.ylabel('Median Sales (mln copies)')\n",
    "plt.grid(lw=0.5)"
   ]
  },
  {
   "cell_type": "markdown",
   "id": "56708304",
   "metadata": {},
   "source": [
    "Why median sales and not the sum (or the mean)?\n",
    "\n",
    "Sum of sales is generally uninformative of the overall condition of the global market in given year, because the more games were released during that year, the higher the total sales will be (actually, it also depends on how the data was collected. Are the sales assigned to a game equal to the amount sold only in the year of the game's release, or is this a cumulative amount up to the day of data collection?).\n",
    "\n",
    "The histograms of total amount of games sold (Total_shipped) for separate years are very similar (i.e. highly skewed) to the one plotted earlier for entire dataset. Median allows to observe the trend (how many games were sold globally in given year), without being influenced by outliers (greatest hits). Seemingly huge sales in the 80's and 90's are likely an artifact of the dataset itself, which simply doesn't contain many games from these periods (this will happen to be an issue later as well).\n",
    "\n",
    "What we can say in general with quite high level of confidence is that median (i.e. value describing the global market in the best way) sales since 1995 oscillate around 15 000 - 20 000 copies and tend to decrease."
   ]
  },
  {
   "cell_type": "markdown",
   "id": "ceeed784",
   "metadata": {},
   "source": [
    "Let's also differentiate the trend between various platforms:"
   ]
  },
  {
   "cell_type": "code",
   "execution_count": 19,
   "id": "fb453b16",
   "metadata": {
    "ExecuteTime": {
     "end_time": "2024-07-15T20:51:21.207708Z",
     "start_time": "2024-07-15T20:51:21.197344Z"
    }
   },
   "outputs": [],
   "source": [
    "sales_yearly_trend_platforms = sales.groupby([sales['Year'].dt.year,'Platform'])['Total_Shipped'].agg({'median','count'}).reset_index()"
   ]
  },
  {
   "cell_type": "markdown",
   "id": "a8ef2d5a",
   "metadata": {
    "ExecuteTime": {
     "end_time": "2024-07-12T14:26:16.493959Z",
     "start_time": "2024-07-12T14:26:16.480977Z"
    }
   },
   "source": [
    "Now we can compare different segments of the gaming industry. Let's investigate how, for instance, the sales for different generations of Playstation have changed over the years:"
   ]
  },
  {
   "cell_type": "code",
   "execution_count": 20,
   "id": "6e78def2",
   "metadata": {
    "ExecuteTime": {
     "end_time": "2024-07-15T20:51:21.941052Z",
     "start_time": "2024-07-15T20:51:21.934887Z"
    }
   },
   "outputs": [],
   "source": [
    "sales_yearly_ps_generations = sales_yearly_trend_platforms[sales_yearly_trend_platforms['Platform'].isin(['PS','PS2','PS3','PS4'])]"
   ]
  },
  {
   "cell_type": "code",
   "execution_count": 21,
   "id": "a5175c44",
   "metadata": {
    "ExecuteTime": {
     "end_time": "2024-07-15T20:51:22.624155Z",
     "start_time": "2024-07-15T20:51:22.445493Z"
    }
   },
   "outputs": [
    {
     "data": {
      "text/plain": [
       "Text(0.5, 0, 'Year')"
      ]
     },
     "execution_count": 21,
     "metadata": {},
     "output_type": "execute_result"
    },
    {
     "data": {
      "image/png": "[encoded data removed]",
      "text/plain": [
       "<Figure size 640x480 with 1 Axes>"
      ]
     },
     "metadata": {},
     "output_type": "display_data"
    }
   ],
   "source": [
    "for gen in ['PS','PS2','PS3','PS4']:\n",
    "    mask = sales_yearly_ps_generations['Platform'] == gen\n",
    "    plt.fill_between(sales_yearly_ps_generations[mask]['Year'],\n",
    "                     sales_yearly_ps_generations[mask]['median'],\n",
    "                     alpha=0.75,\n",
    "                     label=gen)\n",
    "plt.legend()\n",
    "plt.ylabel('Median sales')\n",
    "plt.xlabel('Year')"
   ]
  },
  {
   "cell_type": "markdown",
   "id": "48c64e77",
   "metadata": {},
   "source": [
    "The plot clearly separates golden times for different PS generations. A sharp peak in 2020 is an artifact resulting from the low number of games in dataset."
   ]
  },
  {
   "cell_type": "code",
   "execution_count": 22,
   "id": "52395f53",
   "metadata": {
    "ExecuteTime": {
     "end_time": "2024-07-15T20:51:23.173752Z",
     "start_time": "2024-07-15T20:51:23.160670Z"
    }
   },
   "outputs": [
    {
     "data": {
      "text/html": [
       "<div>\n",
       "<style scoped>\n",
       "    .dataframe tbody tr th:only-of-type {\n",
       "        vertical-align: middle;\n",
       "    }\n",
       "\n",
       "    .dataframe tbody tr th {\n",
       "        vertical-align: top;\n",
       "    }\n",
       "\n",
       "    .dataframe thead th {\n",
       "        text-align: right;\n",
       "    }\n",
       "</style>\n",
       "<table border=\"1\" class=\"dataframe\">\n",
       "  <thead>\n",
       "    <tr style=\"text-align: right;\">\n",
       "      <th></th>\n",
       "      <th>Year</th>\n",
       "      <th>Platform</th>\n",
       "      <th>median</th>\n",
       "      <th>count</th>\n",
       "    </tr>\n",
       "  </thead>\n",
       "  <tbody>\n",
       "    <tr>\n",
       "      <th>224</th>\n",
       "      <td>2013</td>\n",
       "      <td>PS4</td>\n",
       "      <td>1.270</td>\n",
       "      <td>16</td>\n",
       "    </tr>\n",
       "    <tr>\n",
       "      <th>236</th>\n",
       "      <td>2014</td>\n",
       "      <td>PS4</td>\n",
       "      <td>0.670</td>\n",
       "      <td>70</td>\n",
       "    </tr>\n",
       "    <tr>\n",
       "      <th>246</th>\n",
       "      <td>2015</td>\n",
       "      <td>PS4</td>\n",
       "      <td>0.305</td>\n",
       "      <td>124</td>\n",
       "    </tr>\n",
       "    <tr>\n",
       "      <th>259</th>\n",
       "      <td>2016</td>\n",
       "      <td>PS4</td>\n",
       "      <td>0.115</td>\n",
       "      <td>196</td>\n",
       "    </tr>\n",
       "    <tr>\n",
       "      <th>270</th>\n",
       "      <td>2017</td>\n",
       "      <td>PS4</td>\n",
       "      <td>0.100</td>\n",
       "      <td>261</td>\n",
       "    </tr>\n",
       "    <tr>\n",
       "      <th>281</th>\n",
       "      <td>2018</td>\n",
       "      <td>PS4</td>\n",
       "      <td>0.060</td>\n",
       "      <td>248</td>\n",
       "    </tr>\n",
       "    <tr>\n",
       "      <th>290</th>\n",
       "      <td>2019</td>\n",
       "      <td>PS4</td>\n",
       "      <td>0.040</td>\n",
       "      <td>25</td>\n",
       "    </tr>\n",
       "    <tr>\n",
       "      <th>293</th>\n",
       "      <td>2020</td>\n",
       "      <td>PS4</td>\n",
       "      <td>0.700</td>\n",
       "      <td>8</td>\n",
       "    </tr>\n",
       "  </tbody>\n",
       "</table>\n",
       "</div>"
      ],
      "text/plain": [
       "     Year Platform  median  count\n",
       "224  2013      PS4   1.270     16\n",
       "236  2014      PS4   0.670     70\n",
       "246  2015      PS4   0.305    124\n",
       "259  2016      PS4   0.115    196\n",
       "270  2017      PS4   0.100    261\n",
       "281  2018      PS4   0.060    248\n",
       "290  2019      PS4   0.040     25\n",
       "293  2020      PS4   0.700      8"
      ]
     },
     "execution_count": 22,
     "metadata": {},
     "output_type": "execute_result"
    }
   ],
   "source": [
    "sales_yearly_ps_generations[sales_yearly_ps_generations['Platform'] == 'PS4']"
   ]
  },
  {
   "cell_type": "markdown",
   "id": "5f996446",
   "metadata": {},
   "source": [
    "#### Based on critic scores, are games getting worse or better?\n",
    "\n",
    "Let's investigate two things:\n",
    "- the number of games with the median critic score (across different platforms) >= 8.0 points\n",
    "- how the median critic score have changed over the years, with particular focus on PC games\n",
    "\n",
    "As the distribution of critic scores is skewed, I'm going to use the median instead of the mean to describe central tendency. The are some cases, when mean is more favorable even in presence of outliers ([article](https://towardsdatascience.com/mean-or-median-choose-based-on-the-decision-not-the-distribution-f951215c1376)), but here I'm going to utilize median as \"the most representative\" value anyway. For example, if a game performed poorly on one platform due to optimization issues and received lower scores as a result, I don't want this to negatively affect the overall impression of the game, assuming it performed better on other platforms."
   ]
  },
  {
   "cell_type": "code",
   "execution_count": 24,
   "id": "ac2d6c92",
   "metadata": {
    "ExecuteTime": {
     "end_time": "2024-07-15T20:51:39.438791Z",
     "start_time": "2024-07-15T20:51:39.259537Z"
    }
   },
   "outputs": [
    {
     "data": {
      "text/plain": [
       "Text(0, 0.5, 'Number of games')"
      ]
     },
     "execution_count": 24,
     "metadata": {},
     "output_type": "execute_result"
    },
    {
     "data": {
      "image/png": "[encoded data removed]",
      "text/plain": [
       "<Figure size 640x480 with 1 Axes>"
      ]
     },
     "metadata": {},
     "output_type": "display_data"
    }
   ],
   "source": [
    "# Calculate the median with respect to the Platform\n",
    "n_great_games_per_year = sales.groupby([sales['Year'].dt.year,'Name'])['Critic_Score'].median().dropna().reset_index()\n",
    "\n",
    "# Calculate the median with respect to the Year\n",
    "n_great_games_per_year = n_great_games_per_year[n_great_games_per_year['Critic_Score'] >= 8.0].groupby('Year')['Name'].count() \n",
    "\n",
    "markerline, stemline, baseline, = plt.stem(n_great_games_per_year.index, n_great_games_per_year.values,linefmt='k-', markerfmt='kD', basefmt='k', orientation='vertical')\n",
    "plt.setp(stemline, linewidth = 1.25)\n",
    "plt.setp(markerline, markersize = 4, color='tab:red')\n",
    "plt.ylabel('Number of games')"
   ]
  },
  {
   "cell_type": "markdown",
   "id": "ba180e96",
   "metadata": {},
   "source": [
    "It seems, that the number of games considered by critics to be great has been decreasing since 2003. The plot also shows, that prior to 1995 there were seemingly only a few good games per year, but again - there is a small number of games released in these years in the dataset in general, so actually the actual fraction of great games might be quite high! Let's check it out:"
   ]
  },
  {
   "cell_type": "code",
   "execution_count": 25,
   "id": "6a105716",
   "metadata": {
    "ExecuteTime": {
     "end_time": "2024-07-15T20:51:42.765463Z",
     "start_time": "2024-07-15T20:51:42.745409Z"
    }
   },
   "outputs": [],
   "source": [
    "n_great_games_per_year_joined = pd.merge(left=n_great_games_per_year.reset_index().rename({'Name':'count'},axis=1),\n",
    "                                         right=n_games_per_year.reset_index().rename({'Name':'count'},axis=1),\n",
    "                                         on='Year',\n",
    "                                         how='inner',\n",
    "                                         suffixes=('_great','_total'))\n",
    "n_great_games_per_year_joined['%Total'] = (n_great_games_per_year_joined['count_great'] / n_great_games_per_year_joined['count_total'] * 100).round(1)"
   ]
  },
  {
   "cell_type": "code",
   "execution_count": 26,
   "id": "1c4e32ba",
   "metadata": {
    "ExecuteTime": {
     "end_time": "2024-07-15T20:51:43.749921Z",
     "start_time": "2024-07-15T20:51:43.730761Z"
    }
   },
   "outputs": [
    {
     "data": {
      "text/html": [
       "<div>\n",
       "<style scoped>\n",
       "    .dataframe tbody tr th:only-of-type {\n",
       "        vertical-align: middle;\n",
       "    }\n",
       "\n",
       "    .dataframe tbody tr th {\n",
       "        vertical-align: top;\n",
       "    }\n",
       "\n",
       "    .dataframe thead th {\n",
       "        text-align: right;\n",
       "    }\n",
       "</style>\n",
       "<table border=\"1\" class=\"dataframe\">\n",
       "  <thead>\n",
       "    <tr style=\"text-align: right;\">\n",
       "      <th></th>\n",
       "      <th>Year</th>\n",
       "      <th>count_great</th>\n",
       "      <th>count_total</th>\n",
       "      <th>%Total</th>\n",
       "    </tr>\n",
       "  </thead>\n",
       "  <tbody>\n",
       "    <tr>\n",
       "      <th>0</th>\n",
       "      <td>1982</td>\n",
       "      <td>1</td>\n",
       "      <td>47</td>\n",
       "      <td>2.1</td>\n",
       "    </tr>\n",
       "    <tr>\n",
       "      <th>1</th>\n",
       "      <td>1984</td>\n",
       "      <td>1</td>\n",
       "      <td>12</td>\n",
       "      <td>8.3</td>\n",
       "    </tr>\n",
       "    <tr>\n",
       "      <th>2</th>\n",
       "      <td>1985</td>\n",
       "      <td>2</td>\n",
       "      <td>15</td>\n",
       "      <td>13.3</td>\n",
       "    </tr>\n",
       "    <tr>\n",
       "      <th>3</th>\n",
       "      <td>1986</td>\n",
       "      <td>1</td>\n",
       "      <td>18</td>\n",
       "      <td>5.6</td>\n",
       "    </tr>\n",
       "    <tr>\n",
       "      <th>4</th>\n",
       "      <td>1987</td>\n",
       "      <td>2</td>\n",
       "      <td>16</td>\n",
       "      <td>12.5</td>\n",
       "    </tr>\n",
       "    <tr>\n",
       "      <th>5</th>\n",
       "      <td>1988</td>\n",
       "      <td>1</td>\n",
       "      <td>17</td>\n",
       "      <td>5.9</td>\n",
       "    </tr>\n",
       "    <tr>\n",
       "      <th>6</th>\n",
       "      <td>1989</td>\n",
       "      <td>3</td>\n",
       "      <td>20</td>\n",
       "      <td>15.0</td>\n",
       "    </tr>\n",
       "    <tr>\n",
       "      <th>7</th>\n",
       "      <td>1990</td>\n",
       "      <td>5</td>\n",
       "      <td>21</td>\n",
       "      <td>23.8</td>\n",
       "    </tr>\n",
       "    <tr>\n",
       "      <th>8</th>\n",
       "      <td>1991</td>\n",
       "      <td>5</td>\n",
       "      <td>34</td>\n",
       "      <td>14.7</td>\n",
       "    </tr>\n",
       "    <tr>\n",
       "      <th>9</th>\n",
       "      <td>1992</td>\n",
       "      <td>3</td>\n",
       "      <td>40</td>\n",
       "      <td>7.5</td>\n",
       "    </tr>\n",
       "    <tr>\n",
       "      <th>10</th>\n",
       "      <td>1993</td>\n",
       "      <td>7</td>\n",
       "      <td>61</td>\n",
       "      <td>11.5</td>\n",
       "    </tr>\n",
       "    <tr>\n",
       "      <th>11</th>\n",
       "      <td>1994</td>\n",
       "      <td>5</td>\n",
       "      <td>104</td>\n",
       "      <td>4.8</td>\n",
       "    </tr>\n",
       "    <tr>\n",
       "      <th>12</th>\n",
       "      <td>1995</td>\n",
       "      <td>15</td>\n",
       "      <td>193</td>\n",
       "      <td>7.8</td>\n",
       "    </tr>\n",
       "    <tr>\n",
       "      <th>17</th>\n",
       "      <td>2000</td>\n",
       "      <td>96</td>\n",
       "      <td>411</td>\n",
       "      <td>23.4</td>\n",
       "    </tr>\n",
       "    <tr>\n",
       "      <th>18</th>\n",
       "      <td>2001</td>\n",
       "      <td>119</td>\n",
       "      <td>508</td>\n",
       "      <td>23.4</td>\n",
       "    </tr>\n",
       "    <tr>\n",
       "      <th>19</th>\n",
       "      <td>2002</td>\n",
       "      <td>141</td>\n",
       "      <td>819</td>\n",
       "      <td>17.2</td>\n",
       "    </tr>\n",
       "    <tr>\n",
       "      <th>20</th>\n",
       "      <td>2003</td>\n",
       "      <td>167</td>\n",
       "      <td>812</td>\n",
       "      <td>20.6</td>\n",
       "    </tr>\n",
       "    <tr>\n",
       "      <th>21</th>\n",
       "      <td>2004</td>\n",
       "      <td>123</td>\n",
       "      <td>778</td>\n",
       "      <td>15.8</td>\n",
       "    </tr>\n",
       "    <tr>\n",
       "      <th>22</th>\n",
       "      <td>2005</td>\n",
       "      <td>140</td>\n",
       "      <td>964</td>\n",
       "      <td>14.5</td>\n",
       "    </tr>\n",
       "    <tr>\n",
       "      <th>23</th>\n",
       "      <td>2006</td>\n",
       "      <td>111</td>\n",
       "      <td>1033</td>\n",
       "      <td>10.7</td>\n",
       "    </tr>\n",
       "    <tr>\n",
       "      <th>24</th>\n",
       "      <td>2007</td>\n",
       "      <td>107</td>\n",
       "      <td>1236</td>\n",
       "      <td>8.7</td>\n",
       "    </tr>\n",
       "    <tr>\n",
       "      <th>25</th>\n",
       "      <td>2008</td>\n",
       "      <td>112</td>\n",
       "      <td>1534</td>\n",
       "      <td>7.3</td>\n",
       "    </tr>\n",
       "    <tr>\n",
       "      <th>26</th>\n",
       "      <td>2009</td>\n",
       "      <td>118</td>\n",
       "      <td>1615</td>\n",
       "      <td>7.3</td>\n",
       "    </tr>\n",
       "    <tr>\n",
       "      <th>27</th>\n",
       "      <td>2010</td>\n",
       "      <td>97</td>\n",
       "      <td>1401</td>\n",
       "      <td>6.9</td>\n",
       "    </tr>\n",
       "  </tbody>\n",
       "</table>\n",
       "</div>"
      ],
      "text/plain": [
       "    Year  count_great  count_total  %Total\n",
       "0   1982            1           47     2.1\n",
       "1   1984            1           12     8.3\n",
       "2   1985            2           15    13.3\n",
       "3   1986            1           18     5.6\n",
       "4   1987            2           16    12.5\n",
       "5   1988            1           17     5.9\n",
       "6   1989            3           20    15.0\n",
       "7   1990            5           21    23.8\n",
       "8   1991            5           34    14.7\n",
       "9   1992            3           40     7.5\n",
       "10  1993            7           61    11.5\n",
       "11  1994            5          104     4.8\n",
       "12  1995           15          193     7.8\n",
       "17  2000           96          411    23.4\n",
       "18  2001          119          508    23.4\n",
       "19  2002          141          819    17.2\n",
       "20  2003          167          812    20.6\n",
       "21  2004          123          778    15.8\n",
       "22  2005          140          964    14.5\n",
       "23  2006          111         1033    10.7\n",
       "24  2007          107         1236     8.7\n",
       "25  2008          112         1534     7.3\n",
       "26  2009          118         1615     7.3\n",
       "27  2010           97         1401     6.9"
      ]
     },
     "execution_count": 26,
     "metadata": {},
     "output_type": "execute_result"
    }
   ],
   "source": [
    "n_great_games_per_year_joined[(n_great_games_per_year_joined['Year'].between(1977, 1995)) | (n_great_games_per_year_joined['Year'].between(2000, 2010))]"
   ]
  },
  {
   "cell_type": "markdown",
   "id": "f19b7338",
   "metadata": {},
   "source": [
    "Well, maybe the hypothesis wasn't so accurate as I thought. The dataset contains only a few games released between 1977 and 1995, making it challenging to draw confident conclusions about this period. Additionally, games released before 1982 are absent from this summary, suggesting a lack of available reviews for those titles.  On the other hand, in 2001 the percentage of games considered to be \"great\" by our criteria is quite high (23.2%), considering the total number of games released this year (508).\n",
    "\n",
    "Actually, the critic score in the dataset is likely an average of scores published by various critics on Metacritic. The information about the number of original reviews would be valuable and could improve conclusions, but unfortunately it's not available. "
   ]
  },
  {
   "cell_type": "markdown",
   "id": "1242a4b0",
   "metadata": {},
   "source": [
    "How about median critic scores for PC games (specifically between 2000 and 2018)?"
   ]
  },
  {
   "cell_type": "code",
   "execution_count": 27,
   "id": "f4130ce8",
   "metadata": {
    "ExecuteTime": {
     "end_time": "2024-07-15T20:51:45.471856Z",
     "start_time": "2024-07-15T20:51:45.084939Z"
    }
   },
   "outputs": [
    {
     "ename": "NameError",
     "evalue": "name 'MultipleLocator' is not defined",
     "output_type": "error",
     "traceback": [
      "\u001b[0;31m---------------------------------------------------------------------------\u001b[0m",
      "\u001b[0;31mNameError\u001b[0m                                 Traceback (most recent call last)",
      "Cell \u001b[0;32mIn [27], line 9\u001b[0m\n\u001b[1;32m      6\u001b[0m sns\u001b[38;5;241m.\u001b[39mbarplot(x\u001b[38;5;241m=\u001b[39mpc_game_sales[\u001b[38;5;124m'\u001b[39m\u001b[38;5;124mcount\u001b[39m\u001b[38;5;124m'\u001b[39m]\u001b[38;5;241m.\u001b[39mindex, y\u001b[38;5;241m=\u001b[39mpc_game_sales[\u001b[38;5;124m'\u001b[39m\u001b[38;5;124mcount\u001b[39m\u001b[38;5;124m'\u001b[39m]\u001b[38;5;241m.\u001b[39mvalues,color\u001b[38;5;241m=\u001b[39m\u001b[38;5;124m'\u001b[39m\u001b[38;5;124mtab:blue\u001b[39m\u001b[38;5;124m'\u001b[39m,ax\u001b[38;5;241m=\u001b[39max[\u001b[38;5;241m1\u001b[39m])\n\u001b[1;32m      8\u001b[0m ax[\u001b[38;5;241m0\u001b[39m]\u001b[38;5;241m.\u001b[39mset_ylabel(\u001b[38;5;124m'\u001b[39m\u001b[38;5;124mMedian sales\u001b[39m\u001b[38;5;124m'\u001b[39m)\n\u001b[0;32m----> 9\u001b[0m ax[\u001b[38;5;241m0\u001b[39m]\u001b[38;5;241m.\u001b[39mxaxis\u001b[38;5;241m.\u001b[39mset_major_locator(MultipleLocator(\u001b[38;5;241m2\u001b[39m))\n\u001b[1;32m     10\u001b[0m ax[\u001b[38;5;241m0\u001b[39m]\u001b[38;5;241m.\u001b[39mgrid(lw\u001b[38;5;241m=\u001b[39m\u001b[38;5;241m0.5\u001b[39m)\n\u001b[1;32m     12\u001b[0m ax[\u001b[38;5;241m1\u001b[39m]\u001b[38;5;241m.\u001b[39mset_ylabel(\u001b[38;5;124m'\u001b[39m\u001b[38;5;124mNumber of games\u001b[39m\u001b[38;5;124m'\u001b[39m)\n",
      "\u001b[0;31mNameError\u001b[0m: name 'MultipleLocator' is not defined"
     ]
    },
    {
     "data": {
      "image/png": "[encoded data removed]",
      "text/plain": [
       "<Figure size 1000x400 with 2 Axes>"
      ]
     },
     "metadata": {},
     "output_type": "display_data"
    }
   ],
   "source": [
    "pc_game_sales = sales[sales['Platform'] == 'PC']\n",
    "pc_game_sales = pc_game_sales.groupby(pc_game_sales['Year'].dt.year)['Critic_Score'].agg(['median','count'])\n",
    "\n",
    "fig, ax = plt.subplots(figsize=(10,4),ncols=2)\n",
    "sns.lineplot(pc_game_sales['median'].loc[2000:2018],ax=ax[0])\n",
    "sns.barplot(x=pc_game_sales['count'].index, y=pc_game_sales['count'].values,color='tab:blue',ax=ax[1])\n",
    "\n",
    "ax[0].set_ylabel('Median sales')\n",
    "ax[0].xaxis.set_major_locator(MultipleLocator(2))\n",
    "ax[0].grid(lw=0.5)\n",
    "\n",
    "ax[1].set_ylabel('Number of games')\n",
    "ax[1].xaxis.set_major_locator(MultipleLocator(4))\n",
    "plt.tight_layout()"
   ]
  },
  {
   "cell_type": "markdown",
   "id": "847c2aba",
   "metadata": {
    "ExecuteTime": {
     "end_time": "2024-07-12T19:20:08.386513Z",
     "start_time": "2024-07-12T19:20:08.372237Z"
    }
   },
   "source": [
    "I included the second plot (to the right) not without a reason - it depicts the number of games for personal computers released in particular years. The plot to the left shows the variation in median critic score for PC games between 2000 and 2018. The number of games included for some periods (before 2000's and after 2018) are too low to draw meaningful conclusions, in my opinion (for example, the median rating of PC games in 1994 is equal to 9.3 point, but it's only due to the fact, that there is only one PC game from 1993 in the dataset, making the sample unrepresentative! And yes, there were many more PC games back then). Also, many games lack the score, so they were discarded as NaNs. There are just not enough data. \n",
    "\n",
    "Side note: 2010 was a king of PC games, at least in terms of number of released titles."
   ]
  },
  {
   "cell_type": "markdown",
   "id": "4a6a9ccc",
   "metadata": {},
   "source": [
    "#### Which platforms are loved by the critics?"
   ]
  },
  {
   "cell_type": "code",
   "execution_count": 28,
   "id": "770cc3a8",
   "metadata": {
    "ExecuteTime": {
     "end_time": "2024-07-15T20:51:46.897313Z",
     "start_time": "2024-07-15T20:51:46.869958Z"
    }
   },
   "outputs": [
    {
     "data": {
      "text/plain": [
       "Platform\n",
       "GEN     8.80\n",
       "SNES    8.80\n",
       "DC      8.60\n",
       "SAT     8.40\n",
       "2600    8.30\n",
       "GB      8.15\n",
       "PC      7.90\n",
       "NS      7.80\n",
       "XB      7.70\n",
       "XOne    7.70\n",
       "Name: Critic_Score, dtype: float64"
      ]
     },
     "execution_count": 28,
     "metadata": {},
     "output_type": "execute_result"
    }
   ],
   "source": [
    "platforms_filtered_by_game_count = sales.groupby('Platform')['Name'].count().reset_index()\n",
    "platforms_filtered_by_game_count = platforms_filtered_by_game_count[platforms_filtered_by_game_count['Name'] > 30]['Platform']\n",
    "sales[sales['Platform'].isin(platforms_filtered_by_game_count)].groupby('Platform')['Critic_Score'].median().nlargest(10)"
   ]
  },
  {
   "cell_type": "markdown",
   "id": "776fa207",
   "metadata": {},
   "source": [
    "#### How do median sales vary based on critic score?"
   ]
  },
  {
   "cell_type": "markdown",
   "id": "a89d0318",
   "metadata": {},
   "source": [
    "Let's divide the games into three groups using critic scores:\n",
    "- low: critic score < 5.5\n",
    "- medium: 5.5 <= critic score <= 8.5, \n",
    "- high: critic score > 8.5\n",
    "\n",
    "And analyze the median sales in each group. The score I will use to assign a group to particular game will be a median of scores attributed to different platforms if the game was published on more than one. "
   ]
  },
  {
   "cell_type": "code",
   "execution_count": 29,
   "id": "1aba4f36",
   "metadata": {
    "ExecuteTime": {
     "end_time": "2024-07-15T20:51:48.154995Z",
     "start_time": "2024-07-15T20:51:48.149567Z"
    }
   },
   "outputs": [],
   "source": [
    "def score2group(score):\n",
    "    if score < 5.5:\n",
    "        return 'Low'\n",
    "    elif 5.5 <= score <= 8.5:\n",
    "        return 'Medium'\n",
    "    else:\n",
    "        return 'High'"
   ]
  },
  {
   "cell_type": "code",
   "execution_count": 30,
   "id": "32e896b8",
   "metadata": {
    "ExecuteTime": {
     "end_time": "2024-07-15T20:51:48.525048Z",
     "start_time": "2024-07-15T20:51:48.472412Z"
    }
   },
   "outputs": [],
   "source": [
    "sales_grouped_by_score = sales.groupby('Name').agg({'Total_Shipped':'sum','Critic_Score':'median'}).dropna().reset_index()\n",
    "sales_grouped_by_score['Label'] = sales_grouped_by_score['Critic_Score'].apply(lambda x: score2group(x))\n",
    "sales_grouped_by_score = sales_grouped_by_score.groupby('Label')['Total_Shipped'].agg(['count','median']).reset_index()"
   ]
  },
  {
   "cell_type": "code",
   "execution_count": 31,
   "id": "0a3df901",
   "metadata": {
    "ExecuteTime": {
     "end_time": "2024-07-15T20:51:48.995676Z",
     "start_time": "2024-07-15T20:51:48.893756Z"
    }
   },
   "outputs": [
    {
     "data": {
      "text/plain": [
       "Text(0.5, 0, '')"
      ]
     },
     "execution_count": 31,
     "metadata": {},
     "output_type": "execute_result"
    },
    {
     "data": {
      "image/png": "[encoded data removed]",
      "text/plain": [
       "<Figure size 640x480 with 1 Axes>"
      ]
     },
     "metadata": {},
     "output_type": "display_data"
    }
   ],
   "source": [
    "ax = sns.barplot(data=sales_grouped_by_score,x='Label',y='median',order=['Low','Medium','High'])\n",
    "ax.set_ylabel('Median sales')\n",
    "ax.set_xlabel('')"
   ]
  },
  {
   "cell_type": "code",
   "execution_count": 32,
   "id": "4752a4b1",
   "metadata": {
    "ExecuteTime": {
     "end_time": "2024-07-15T20:51:49.616574Z",
     "start_time": "2024-07-15T20:51:49.608326Z"
    }
   },
   "outputs": [
    {
     "data": {
      "text/html": [
       "<div>\n",
       "<style scoped>\n",
       "    .dataframe tbody tr th:only-of-type {\n",
       "        vertical-align: middle;\n",
       "    }\n",
       "\n",
       "    .dataframe tbody tr th {\n",
       "        vertical-align: top;\n",
       "    }\n",
       "\n",
       "    .dataframe thead th {\n",
       "        text-align: right;\n",
       "    }\n",
       "</style>\n",
       "<table border=\"1\" class=\"dataframe\">\n",
       "  <thead>\n",
       "    <tr style=\"text-align: right;\">\n",
       "      <th></th>\n",
       "      <th>Label</th>\n",
       "      <th>count</th>\n",
       "      <th>median</th>\n",
       "    </tr>\n",
       "  </thead>\n",
       "  <tbody>\n",
       "    <tr>\n",
       "      <th>0</th>\n",
       "      <td>High</td>\n",
       "      <td>891</td>\n",
       "      <td>1.59</td>\n",
       "    </tr>\n",
       "    <tr>\n",
       "      <th>1</th>\n",
       "      <td>Low</td>\n",
       "      <td>1053</td>\n",
       "      <td>0.18</td>\n",
       "    </tr>\n",
       "    <tr>\n",
       "      <th>2</th>\n",
       "      <td>Medium</td>\n",
       "      <td>4628</td>\n",
       "      <td>0.38</td>\n",
       "    </tr>\n",
       "  </tbody>\n",
       "</table>\n",
       "</div>"
      ],
      "text/plain": [
       "    Label  count  median\n",
       "0    High    891    1.59\n",
       "1     Low   1053    0.18\n",
       "2  Medium   4628    0.38"
      ]
     },
     "execution_count": 32,
     "metadata": {},
     "output_type": "execute_result"
    }
   ],
   "source": [
    "sales_grouped_by_score"
   ]
  },
  {
   "cell_type": "markdown",
   "id": "efcec5b9",
   "metadata": {},
   "source": [
    "As we might expect the median sales of a game vary, depending on the median critic score (and thus assigned label). The difference between medium and high groups is large, but it also depends on how we define \"Medium\" and \"High\"."
   ]
  },
  {
   "cell_type": "markdown",
   "id": "79eccf23",
   "metadata": {},
   "source": [
    "How much higher are median sales of top-rated games in comparison to the average and bad ones?"
   ]
  },
  {
   "cell_type": "code",
   "execution_count": 33,
   "id": "09a0581b",
   "metadata": {
    "ExecuteTime": {
     "end_time": "2024-07-15T20:51:50.632598Z",
     "start_time": "2024-07-15T20:51:50.627805Z"
    }
   },
   "outputs": [
    {
     "name": "stdout",
     "output_type": "stream",
     "text": [
      "Comparison with mediocre games: 318.4% higher median sales\n",
      "Comparison with lowest-rated games: 783.3% higher median sales\n"
     ]
    }
   ],
   "source": [
    "median_sales = sales_grouped_by_score['median'] \n",
    "print(f\"Comparison with mediocre games: {(median_sales.iloc[0] - median_sales.iloc[2]) / median_sales.iloc[2] * 100:.1f}% higher median sales\")\n",
    "print(f\"Comparison with lowest-rated games: {(median_sales.iloc[0] - median_sales.iloc[1]) / median_sales.iloc[1] * 100:.1f}% higher median sales\")"
   ]
  },
  {
   "cell_type": "markdown",
   "id": "04e331fa",
   "metadata": {},
   "source": [
    "#### Identify top 5% of the games according to critic score per year with an additional restriction, that their median score can't be lower than 8.5 points. "
   ]
  },
  {
   "cell_type": "code",
   "execution_count": 36,
   "id": "bd3b5257",
   "metadata": {
    "ExecuteTime": {
     "end_time": "2024-07-15T20:52:13.011033Z",
     "start_time": "2024-07-15T20:52:12.957989Z"
    }
   },
   "outputs": [],
   "source": [
    "top_rated_games_mask = sales.groupby(['Name'])['Critic_Score'].median() >= 8.5\n",
    "top_rated_games = sales[sales['Name'].isin(top_rated_games_mask.index)].dropna(subset='Critic_Score')\n",
    "top_rated_games['rank'] = top_rated_games.groupby(['Year'])['Critic_Score'].rank(pct=True,ascending=True)\n",
    "top_rated_games = top_rated_games[top_rated_games['rank'] >= 0.95].sort_values(by='Year',ascending=False)"
   ]
  },
  {
   "cell_type": "code",
   "execution_count": 37,
   "id": "97da8684",
   "metadata": {
    "ExecuteTime": {
     "end_time": "2024-07-15T20:52:13.937819Z",
     "start_time": "2024-07-15T20:52:13.919634Z"
    }
   },
   "outputs": [
    {
     "data": {
      "text/html": [
       "<div>\n",
       "<style scoped>\n",
       "    .dataframe tbody tr th:only-of-type {\n",
       "        vertical-align: middle;\n",
       "    }\n",
       "\n",
       "    .dataframe tbody tr th {\n",
       "        vertical-align: top;\n",
       "    }\n",
       "\n",
       "    .dataframe thead th {\n",
       "        text-align: right;\n",
       "    }\n",
       "</style>\n",
       "<table border=\"1\" class=\"dataframe\">\n",
       "  <thead>\n",
       "    <tr style=\"text-align: right;\">\n",
       "      <th></th>\n",
       "      <th>Name</th>\n",
       "      <th>Platform</th>\n",
       "      <th>Year</th>\n",
       "    </tr>\n",
       "  </thead>\n",
       "  <tbody>\n",
       "    <tr>\n",
       "      <th>1656</th>\n",
       "      <td>Persona 5 Royal</td>\n",
       "      <td>PS4</td>\n",
       "      <td>2020-01-01</td>\n",
       "    </tr>\n",
       "    <tr>\n",
       "      <th>5824</th>\n",
       "      <td>Shovel Knight</td>\n",
       "      <td>NS</td>\n",
       "      <td>2019-01-01</td>\n",
       "    </tr>\n",
       "    <tr>\n",
       "      <th>1163</th>\n",
       "      <td>Forza Horizon 4</td>\n",
       "      <td>XOne</td>\n",
       "      <td>2018-01-01</td>\n",
       "    </tr>\n",
       "    <tr>\n",
       "      <th>541</th>\n",
       "      <td>Assassin's Creed Odyssey</td>\n",
       "      <td>PS4</td>\n",
       "      <td>2018-01-01</td>\n",
       "    </tr>\n",
       "    <tr>\n",
       "      <th>1130</th>\n",
       "      <td>Minecraft</td>\n",
       "      <td>NS</td>\n",
       "      <td>2018-01-01</td>\n",
       "    </tr>\n",
       "    <tr>\n",
       "      <th>...</th>\n",
       "      <td>...</td>\n",
       "      <td>...</td>\n",
       "      <td>...</td>\n",
       "    </tr>\n",
       "    <tr>\n",
       "      <th>714</th>\n",
       "      <td>Super Mario Bros. 2 (FDS)</td>\n",
       "      <td>NES</td>\n",
       "      <td>1986-01-01</td>\n",
       "    </tr>\n",
       "    <tr>\n",
       "      <th>1</th>\n",
       "      <td>Super Mario Bros.</td>\n",
       "      <td>NES</td>\n",
       "      <td>1985-01-01</td>\n",
       "    </tr>\n",
       "    <tr>\n",
       "      <th>1476</th>\n",
       "      <td>F1 Race</td>\n",
       "      <td>NES</td>\n",
       "      <td>1984-01-01</td>\n",
       "    </tr>\n",
       "    <tr>\n",
       "      <th>139</th>\n",
       "      <td>Pac-Man</td>\n",
       "      <td>2600</td>\n",
       "      <td>1982-01-01</td>\n",
       "    </tr>\n",
       "    <tr>\n",
       "      <th>340</th>\n",
       "      <td>Asteroids</td>\n",
       "      <td>2600</td>\n",
       "      <td>1981-01-01</td>\n",
       "    </tr>\n",
       "  </tbody>\n",
       "</table>\n",
       "<p>506 rows × 3 columns</p>\n",
       "</div>"
      ],
      "text/plain": [
       "                           Name Platform       Year\n",
       "1656            Persona 5 Royal      PS4 2020-01-01\n",
       "5824              Shovel Knight       NS 2019-01-01\n",
       "1163            Forza Horizon 4     XOne 2018-01-01\n",
       "541    Assassin's Creed Odyssey      PS4 2018-01-01\n",
       "1130                  Minecraft       NS 2018-01-01\n",
       "...                         ...      ...        ...\n",
       "714   Super Mario Bros. 2 (FDS)      NES 1986-01-01\n",
       "1             Super Mario Bros.      NES 1985-01-01\n",
       "1476                    F1 Race      NES 1984-01-01\n",
       "139                     Pac-Man     2600 1982-01-01\n",
       "340                   Asteroids     2600 1981-01-01\n",
       "\n",
       "[506 rows x 3 columns]"
      ]
     },
     "execution_count": 37,
     "metadata": {},
     "output_type": "execute_result"
    }
   ],
   "source": [
    "top_rated_games[['Name','Platform','Year']]"
   ]
  },
  {
   "cell_type": "markdown",
   "id": "1f94f9a7",
   "metadata": {},
   "source": [
    "#### Finally, what are 3 top-selling and 3 top-rated games of all times?"
   ]
  },
  {
   "cell_type": "code",
   "execution_count": 41,
   "id": "fc99ef33",
   "metadata": {
    "ExecuteTime": {
     "end_time": "2024-07-15T20:57:11.037368Z",
     "start_time": "2024-07-15T20:57:10.965674Z"
    }
   },
   "outputs": [
    {
     "name": "stdout",
     "output_type": "stream",
     "text": [
      "Top selling games of all times: Wii Sports, Grand Theft Auto V, Minecraft\n",
      "Top rated games of all times: Final Fantasy II, Final Fight, Grand Theft Auto IV, Red Dead Redemption: Undead Nightmare, Super Mario Bros., Super Mario Kart, Super Mario Odyssey, The Legend of Zelda: Breath of the Wild, The Legend of Zelda: Ocarina of Time\n"
     ]
    }
   ],
   "source": [
    "import numpy as np\n",
    "best_selling_games = sales.groupby('Name')['Total_Shipped'].sum().nlargest(3).index.tolist()\n",
    "\n",
    "# Use rank to allow for ex-aequo places\n",
    "best_rated_games = sales.groupby('Name')['Critic_Score'].median().rank(method='dense',ascending=False)\n",
    "best_rated_games = best_rated_games[best_rated_games <= 3].index.tolist()\n",
    "\n",
    "print(f\"Top selling games of all times: {', '.join(best_selling_games)}\")\n",
    "print(f\"Top rated games of all times: {', '.join(best_rated_games)}\")"
   ]
  },
  {
   "cell_type": "markdown",
   "id": "37d1e6c6",
   "metadata": {},
   "source": [
    "When were they released?"
   ]
  },
  {
   "cell_type": "code",
   "execution_count": 42,
   "id": "0c2aa74f",
   "metadata": {
    "ExecuteTime": {
     "end_time": "2024-07-15T20:57:12.195722Z",
     "start_time": "2024-07-15T20:57:12.177282Z"
    }
   },
   "outputs": [
    {
     "data": {
      "text/html": [
       "<div>\n",
       "<style scoped>\n",
       "    .dataframe tbody tr th:only-of-type {\n",
       "        vertical-align: middle;\n",
       "    }\n",
       "\n",
       "    .dataframe tbody tr th {\n",
       "        vertical-align: top;\n",
       "    }\n",
       "\n",
       "    .dataframe thead th {\n",
       "        text-align: right;\n",
       "    }\n",
       "</style>\n",
       "<table border=\"1\" class=\"dataframe\">\n",
       "  <thead>\n",
       "    <tr style=\"text-align: right;\">\n",
       "      <th></th>\n",
       "      <th>Name</th>\n",
       "      <th>Platform</th>\n",
       "      <th>Year</th>\n",
       "    </tr>\n",
       "  </thead>\n",
       "  <tbody>\n",
       "    <tr>\n",
       "      <th>0</th>\n",
       "      <td>Wii Sports</td>\n",
       "      <td>Wii</td>\n",
       "      <td>2006-01-01</td>\n",
       "    </tr>\n",
       "    <tr>\n",
       "      <th>5</th>\n",
       "      <td>Minecraft</td>\n",
       "      <td>PC</td>\n",
       "      <td>2010-01-01</td>\n",
       "    </tr>\n",
       "    <tr>\n",
       "      <th>22</th>\n",
       "      <td>Grand Theft Auto V</td>\n",
       "      <td>PS3</td>\n",
       "      <td>2013-01-01</td>\n",
       "    </tr>\n",
       "    <tr>\n",
       "      <th>40</th>\n",
       "      <td>Grand Theft Auto V</td>\n",
       "      <td>X360</td>\n",
       "      <td>2013-01-01</td>\n",
       "    </tr>\n",
       "    <tr>\n",
       "      <th>65</th>\n",
       "      <td>Minecraft</td>\n",
       "      <td>X360</td>\n",
       "      <td>2013-01-01</td>\n",
       "    </tr>\n",
       "    <tr>\n",
       "      <th>23</th>\n",
       "      <td>Grand Theft Auto V</td>\n",
       "      <td>PS4</td>\n",
       "      <td>2014-01-01</td>\n",
       "    </tr>\n",
       "    <tr>\n",
       "      <th>122</th>\n",
       "      <td>Grand Theft Auto V</td>\n",
       "      <td>XOne</td>\n",
       "      <td>2014-01-01</td>\n",
       "    </tr>\n",
       "    <tr>\n",
       "      <th>183</th>\n",
       "      <td>Minecraft</td>\n",
       "      <td>PS4</td>\n",
       "      <td>2014-01-01</td>\n",
       "    </tr>\n",
       "    <tr>\n",
       "      <th>193</th>\n",
       "      <td>Minecraft</td>\n",
       "      <td>PS3</td>\n",
       "      <td>2014-01-01</td>\n",
       "    </tr>\n",
       "    <tr>\n",
       "      <th>228</th>\n",
       "      <td>Minecraft</td>\n",
       "      <td>XOne</td>\n",
       "      <td>2014-01-01</td>\n",
       "    </tr>\n",
       "    <tr>\n",
       "      <th>783</th>\n",
       "      <td>Minecraft</td>\n",
       "      <td>PSV</td>\n",
       "      <td>2014-01-01</td>\n",
       "    </tr>\n",
       "    <tr>\n",
       "      <th>70</th>\n",
       "      <td>Grand Theft Auto V</td>\n",
       "      <td>PC</td>\n",
       "      <td>2015-01-01</td>\n",
       "    </tr>\n",
       "    <tr>\n",
       "      <th>1564</th>\n",
       "      <td>Minecraft</td>\n",
       "      <td>WiiU</td>\n",
       "      <td>2016-01-01</td>\n",
       "    </tr>\n",
       "    <tr>\n",
       "      <th>5788</th>\n",
       "      <td>Minecraft</td>\n",
       "      <td>3DS</td>\n",
       "      <td>2017-01-01</td>\n",
       "    </tr>\n",
       "    <tr>\n",
       "      <th>1130</th>\n",
       "      <td>Minecraft</td>\n",
       "      <td>NS</td>\n",
       "      <td>2018-01-01</td>\n",
       "    </tr>\n",
       "  </tbody>\n",
       "</table>\n",
       "</div>"
      ],
      "text/plain": [
       "                    Name Platform       Year\n",
       "0             Wii Sports      Wii 2006-01-01\n",
       "5              Minecraft       PC 2010-01-01\n",
       "22    Grand Theft Auto V      PS3 2013-01-01\n",
       "40    Grand Theft Auto V     X360 2013-01-01\n",
       "65             Minecraft     X360 2013-01-01\n",
       "23    Grand Theft Auto V      PS4 2014-01-01\n",
       "122   Grand Theft Auto V     XOne 2014-01-01\n",
       "183            Minecraft      PS4 2014-01-01\n",
       "193            Minecraft      PS3 2014-01-01\n",
       "228            Minecraft     XOne 2014-01-01\n",
       "783            Minecraft      PSV 2014-01-01\n",
       "70    Grand Theft Auto V       PC 2015-01-01\n",
       "1564           Minecraft     WiiU 2016-01-01\n",
       "5788           Minecraft      3DS 2017-01-01\n",
       "1130           Minecraft       NS 2018-01-01"
      ]
     },
     "execution_count": 42,
     "metadata": {},
     "output_type": "execute_result"
    }
   ],
   "source": [
    "sales[sales['Name'].isin(best_selling_games)][['Name','Platform','Year']].sort_values(by='Year')"
   ]
  },
  {
   "cell_type": "code",
   "execution_count": 43,
   "id": "c1de161b",
   "metadata": {
    "ExecuteTime": {
     "end_time": "2024-07-15T20:57:14.509548Z",
     "start_time": "2024-07-15T20:57:14.491328Z"
    }
   },
   "outputs": [
    {
     "data": {
      "text/html": [
       "<div>\n",
       "<style scoped>\n",
       "    .dataframe tbody tr th:only-of-type {\n",
       "        vertical-align: middle;\n",
       "    }\n",
       "\n",
       "    .dataframe tbody tr th {\n",
       "        vertical-align: top;\n",
       "    }\n",
       "\n",
       "    .dataframe thead th {\n",
       "        text-align: right;\n",
       "    }\n",
       "</style>\n",
       "<table border=\"1\" class=\"dataframe\">\n",
       "  <thead>\n",
       "    <tr style=\"text-align: right;\">\n",
       "      <th></th>\n",
       "      <th>Name</th>\n",
       "      <th>Platform</th>\n",
       "      <th>Year</th>\n",
       "    </tr>\n",
       "  </thead>\n",
       "  <tbody>\n",
       "    <tr>\n",
       "      <th>1</th>\n",
       "      <td>Super Mario Bros.</td>\n",
       "      <td>NES</td>\n",
       "      <td>1985-01-01</td>\n",
       "    </tr>\n",
       "    <tr>\n",
       "      <th>3164</th>\n",
       "      <td>Final Fantasy II</td>\n",
       "      <td>NES</td>\n",
       "      <td>1988-01-01</td>\n",
       "    </tr>\n",
       "    <tr>\n",
       "      <th>1285</th>\n",
       "      <td>Final Fantasy II</td>\n",
       "      <td>SNES</td>\n",
       "      <td>1991-01-01</td>\n",
       "    </tr>\n",
       "    <tr>\n",
       "      <th>1545</th>\n",
       "      <td>Final Fight</td>\n",
       "      <td>SNES</td>\n",
       "      <td>1991-01-01</td>\n",
       "    </tr>\n",
       "    <tr>\n",
       "      <th>121</th>\n",
       "      <td>Super Mario Kart</td>\n",
       "      <td>SNES</td>\n",
       "      <td>1992-01-01</td>\n",
       "    </tr>\n",
       "    <tr>\n",
       "      <th>142</th>\n",
       "      <td>The Legend of Zelda: Ocarina of Time</td>\n",
       "      <td>N64</td>\n",
       "      <td>1998-01-01</td>\n",
       "    </tr>\n",
       "    <tr>\n",
       "      <th>7552</th>\n",
       "      <td>Final Fantasy II</td>\n",
       "      <td>WS</td>\n",
       "      <td>2001-01-01</td>\n",
       "    </tr>\n",
       "    <tr>\n",
       "      <th>85</th>\n",
       "      <td>Grand Theft Auto IV</td>\n",
       "      <td>X360</td>\n",
       "      <td>2008-01-01</td>\n",
       "    </tr>\n",
       "    <tr>\n",
       "      <th>93</th>\n",
       "      <td>Grand Theft Auto IV</td>\n",
       "      <td>PS3</td>\n",
       "      <td>2008-01-01</td>\n",
       "    </tr>\n",
       "    <tr>\n",
       "      <th>2812</th>\n",
       "      <td>Grand Theft Auto IV</td>\n",
       "      <td>PC</td>\n",
       "      <td>2008-01-01</td>\n",
       "    </tr>\n",
       "    <tr>\n",
       "      <th>2026</th>\n",
       "      <td>Red Dead Redemption: Undead Nightmare</td>\n",
       "      <td>PS3</td>\n",
       "      <td>2010-01-01</td>\n",
       "    </tr>\n",
       "    <tr>\n",
       "      <th>2168</th>\n",
       "      <td>Red Dead Redemption: Undead Nightmare</td>\n",
       "      <td>X360</td>\n",
       "      <td>2010-01-01</td>\n",
       "    </tr>\n",
       "    <tr>\n",
       "      <th>29</th>\n",
       "      <td>Super Mario Odyssey</td>\n",
       "      <td>NS</td>\n",
       "      <td>2017-01-01</td>\n",
       "    </tr>\n",
       "    <tr>\n",
       "      <th>30</th>\n",
       "      <td>The Legend of Zelda: Breath of the Wild</td>\n",
       "      <td>NS</td>\n",
       "      <td>2017-01-01</td>\n",
       "    </tr>\n",
       "    <tr>\n",
       "      <th>1327</th>\n",
       "      <td>The Legend of Zelda: Breath of the Wild</td>\n",
       "      <td>WiiU</td>\n",
       "      <td>2017-01-01</td>\n",
       "    </tr>\n",
       "  </tbody>\n",
       "</table>\n",
       "</div>"
      ],
      "text/plain": [
       "                                         Name Platform       Year\n",
       "1                           Super Mario Bros.      NES 1985-01-01\n",
       "3164                         Final Fantasy II      NES 1988-01-01\n",
       "1285                         Final Fantasy II     SNES 1991-01-01\n",
       "1545                              Final Fight     SNES 1991-01-01\n",
       "121                          Super Mario Kart     SNES 1992-01-01\n",
       "142      The Legend of Zelda: Ocarina of Time      N64 1998-01-01\n",
       "7552                         Final Fantasy II       WS 2001-01-01\n",
       "85                        Grand Theft Auto IV     X360 2008-01-01\n",
       "93                        Grand Theft Auto IV      PS3 2008-01-01\n",
       "2812                      Grand Theft Auto IV       PC 2008-01-01\n",
       "2026    Red Dead Redemption: Undead Nightmare      PS3 2010-01-01\n",
       "2168    Red Dead Redemption: Undead Nightmare     X360 2010-01-01\n",
       "29                        Super Mario Odyssey       NS 2017-01-01\n",
       "30    The Legend of Zelda: Breath of the Wild       NS 2017-01-01\n",
       "1327  The Legend of Zelda: Breath of the Wild     WiiU 2017-01-01"
      ]
     },
     "execution_count": 43,
     "metadata": {},
     "output_type": "execute_result"
    }
   ],
   "source": [
    "sales[sales['Name'].isin(best_rated_games)][['Name','Platform','Year']].sort_values(by='Year')"
   ]
  },
  {
   "cell_type": "markdown",
   "id": "b28c8d2a",
   "metadata": {},
   "source": [
    "#### Conclusions"
   ]
  },
  {
   "cell_type": "markdown",
   "id": "bc98d440",
   "metadata": {
    "ExecuteTime": {
     "end_time": "2024-07-13T07:49:24.207654Z",
     "start_time": "2024-07-13T07:49:24.204092Z"
    }
   },
   "source": [
    "Through analysis we can conclude, that:\n",
    "- The global gaming market is dominated by consoles, with PC taking third place in terms of the number of games released. Among the top-rated games of all time, only one (Grand Theft Auto IV) was released for personal computers, in addition to versions for the Xbox 360 and PlayStation 3.\n",
    "- The year 2003 had the highest number of great games (median score across all platforms >= 8.0). A decline in the number of good games is observed in subsequent years.\n",
    "- Sales are associated with critic scores. Median sales of top-rated games are 320% higher than the median sales of games with average ratings and 780% higher than the sales of the lowest-rated games."
   ]
  }
 ],
 "metadata": {
  "kernelspec": {
   "display_name": "Python 3 (ipykernel)",
   "language": "python",
   "name": "python3"
  },
  "language_info": {
   "codemirror_mode": {
    "name": "ipython",
    "version": 3
   },
   "file_extension": ".py",
   "mimetype": "text/x-python",
   "name": "python",
   "nbconvert_exporter": "python",
   "pygments_lexer": "ipython3",
   "version": "3.10.12"
  },
  "toc": {
   "base_numbering": 1,
   "nav_menu": {},
   "number_sections": true,
   "sideBar": true,
   "skip_h1_title": false,
   "title_cell": "Table of Contents",
   "title_sidebar": "Contents",
   "toc_cell": false,
   "toc_position": {},
   "toc_section_display": true,
   "toc_window_display": false
  }
 },
 "nbformat": 4,
 "nbformat_minor": 5
}
